{
  "cells": [
    {
      "cell_type": "markdown",
      "metadata": {
        "id": "am6zt8HjafSG"
      },
      "source": [
        "# **Installing the dependencies**"
      ]
    },
    {
      "cell_type": "code",
      "execution_count": null,
      "metadata": {
        "colab": {
          "base_uri": "https://localhost:8080/"
        },
        "id": "3sQpEqk_gN6R",
        "outputId": "7ddeb3a5-0d5a-43eb-aa53-8cf5c70508cb"
      },
      "outputs": [
        {
          "output_type": "stream",
          "name": "stdout",
          "text": [
            "Collecting transformers\n",
            "  Downloading transformers-4.34.1-py3-none-any.whl (7.7 MB)\n",
            "\u001b[2K     \u001b[90m━━━━━━━━━━━━━━━━━━━━━━━━━━━━━━━━━━━━━━━━\u001b[0m \u001b[32m7.7/7.7 MB\u001b[0m \u001b[31m49.4 MB/s\u001b[0m eta \u001b[36m0:00:00\u001b[0m\n",
            "\u001b[?25hRequirement already satisfied: torch in /usr/local/lib/python3.10/dist-packages (2.1.0+cu118)\n",
            "Requirement already satisfied: filelock in /usr/local/lib/python3.10/dist-packages (from transformers) (3.12.4)\n",
            "Collecting huggingface-hub<1.0,>=0.16.4 (from transformers)\n",
            "  Downloading huggingface_hub-0.18.0-py3-none-any.whl (301 kB)\n",
            "\u001b[2K     \u001b[90m━━━━━━━━━━━━━━━━━━━━━━━━━━━━━━━━━━━━━━━━\u001b[0m \u001b[32m302.0/302.0 kB\u001b[0m \u001b[31m34.7 MB/s\u001b[0m eta \u001b[36m0:00:00\u001b[0m\n",
            "\u001b[?25hRequirement already satisfied: numpy>=1.17 in /usr/local/lib/python3.10/dist-packages (from transformers) (1.23.5)\n",
            "Requirement already satisfied: packaging>=20.0 in /usr/local/lib/python3.10/dist-packages (from transformers) (23.2)\n",
            "Requirement already satisfied: pyyaml>=5.1 in /usr/local/lib/python3.10/dist-packages (from transformers) (6.0.1)\n",
            "Requirement already satisfied: regex!=2019.12.17 in /usr/local/lib/python3.10/dist-packages (from transformers) (2023.6.3)\n",
            "Requirement already satisfied: requests in /usr/local/lib/python3.10/dist-packages (from transformers) (2.31.0)\n",
            "Collecting tokenizers<0.15,>=0.14 (from transformers)\n",
            "  Downloading tokenizers-0.14.1-cp310-cp310-manylinux_2_17_x86_64.manylinux2014_x86_64.whl (3.8 MB)\n",
            "\u001b[2K     \u001b[90m━━━━━━━━━━━━━━━━━━━━━━━━━━━━━━━━━━━━━━━━\u001b[0m \u001b[32m3.8/3.8 MB\u001b[0m \u001b[31m99.6 MB/s\u001b[0m eta \u001b[36m0:00:00\u001b[0m\n",
            "\u001b[?25hCollecting safetensors>=0.3.1 (from transformers)\n",
            "  Downloading safetensors-0.4.0-cp310-cp310-manylinux_2_17_x86_64.manylinux2014_x86_64.whl (1.3 MB)\n",
            "\u001b[2K     \u001b[90m━━━━━━━━━━━━━━━━━━━━━━━━━━━━━━━━━━━━━━━━\u001b[0m \u001b[32m1.3/1.3 MB\u001b[0m \u001b[31m41.1 MB/s\u001b[0m eta \u001b[36m0:00:00\u001b[0m\n",
            "\u001b[?25hRequirement already satisfied: tqdm>=4.27 in /usr/local/lib/python3.10/dist-packages (from transformers) (4.66.1)\n",
            "Requirement already satisfied: typing-extensions in /usr/local/lib/python3.10/dist-packages (from torch) (4.5.0)\n",
            "Requirement already satisfied: sympy in /usr/local/lib/python3.10/dist-packages (from torch) (1.12)\n",
            "Requirement already satisfied: networkx in /usr/local/lib/python3.10/dist-packages (from torch) (3.1)\n",
            "Requirement already satisfied: jinja2 in /usr/local/lib/python3.10/dist-packages (from torch) (3.1.2)\n",
            "Requirement already satisfied: fsspec in /usr/local/lib/python3.10/dist-packages (from torch) (2023.6.0)\n",
            "Requirement already satisfied: triton==2.1.0 in /usr/local/lib/python3.10/dist-packages (from torch) (2.1.0)\n",
            "Collecting huggingface-hub<1.0,>=0.16.4 (from transformers)\n",
            "  Downloading huggingface_hub-0.17.3-py3-none-any.whl (295 kB)\n",
            "\u001b[2K     \u001b[90m━━━━━━━━━━━━━━━━━━━━━━━━━━━━━━━━━━━━━━━━\u001b[0m \u001b[32m295.0/295.0 kB\u001b[0m \u001b[31m25.5 MB/s\u001b[0m eta \u001b[36m0:00:00\u001b[0m\n",
            "\u001b[?25hRequirement already satisfied: MarkupSafe>=2.0 in /usr/local/lib/python3.10/dist-packages (from jinja2->torch) (2.1.3)\n",
            "Requirement already satisfied: charset-normalizer<4,>=2 in /usr/local/lib/python3.10/dist-packages (from requests->transformers) (3.3.0)\n",
            "Requirement already satisfied: idna<4,>=2.5 in /usr/local/lib/python3.10/dist-packages (from requests->transformers) (3.4)\n",
            "Requirement already satisfied: urllib3<3,>=1.21.1 in /usr/local/lib/python3.10/dist-packages (from requests->transformers) (2.0.7)\n",
            "Requirement already satisfied: certifi>=2017.4.17 in /usr/local/lib/python3.10/dist-packages (from requests->transformers) (2023.7.22)\n",
            "Requirement already satisfied: mpmath>=0.19 in /usr/local/lib/python3.10/dist-packages (from sympy->torch) (1.3.0)\n",
            "Installing collected packages: safetensors, huggingface-hub, tokenizers, transformers\n",
            "Successfully installed huggingface-hub-0.17.3 safetensors-0.4.0 tokenizers-0.14.1 transformers-4.34.1\n"
          ]
        }
      ],
      "source": [
        "!pip install transformers torch"
      ]
    },
    {
      "cell_type": "code",
      "execution_count": null,
      "metadata": {
        "colab": {
          "base_uri": "https://localhost:8080/"
        },
        "id": "NrBggIW-dsHq",
        "outputId": "5f5e4244-24a0-4fbf-8e0e-0cc94e9031e4"
      },
      "outputs": [
        {
          "output_type": "stream",
          "name": "stdout",
          "text": [
            "Collecting SentencePiece\n",
            "  Downloading sentencepiece-0.1.99-cp310-cp310-manylinux_2_17_x86_64.manylinux2014_x86_64.whl (1.3 MB)\n",
            "\u001b[?25l     \u001b[90m━━━━━━━━━━━━━━━━━━━━━━━━━━━━━━━━━━━━━━━━\u001b[0m \u001b[32m0.0/1.3 MB\u001b[0m \u001b[31m?\u001b[0m eta \u001b[36m-:--:--\u001b[0m\r\u001b[2K     \u001b[91m━\u001b[0m\u001b[91m╸\u001b[0m\u001b[90m━━━━━━━━━━━━━━━━━━━━━━━━━━━━━━━━━━━━━━\u001b[0m \u001b[32m0.1/1.3 MB\u001b[0m \u001b[31m1.8 MB/s\u001b[0m eta \u001b[36m0:00:01\u001b[0m\r\u001b[2K     \u001b[91m━━━━━━━━━━━━━━━━━━━\u001b[0m\u001b[91m╸\u001b[0m\u001b[90m━━━━━━━━━━━━━━━━━━━━\u001b[0m \u001b[32m0.6/1.3 MB\u001b[0m \u001b[31m9.8 MB/s\u001b[0m eta \u001b[36m0:00:01\u001b[0m\r\u001b[2K     \u001b[90m━━━━━━━━━━━━━━━━━━━━━━━━━━━━━━━━━━━━━━━━\u001b[0m \u001b[32m1.3/1.3 MB\u001b[0m \u001b[31m14.1 MB/s\u001b[0m eta \u001b[36m0:00:00\u001b[0m\n",
            "\u001b[?25hInstalling collected packages: SentencePiece\n",
            "Successfully installed SentencePiece-0.1.99\n"
          ]
        }
      ],
      "source": [
        "!pip install -U SentencePiece"
      ]
    },
    {
      "cell_type": "code",
      "execution_count": null,
      "metadata": {
        "colab": {
          "base_uri": "https://localhost:8080/"
        },
        "id": "q4i-zNPZgYQa",
        "outputId": "42f85f6e-b50d-4d11-e5f5-cfd042478c22"
      },
      "outputs": [
        {
          "output_type": "stream",
          "name": "stdout",
          "text": [
            "Collecting accelerate\n",
            "  Downloading accelerate-0.23.0-py3-none-any.whl (258 kB)\n",
            "\u001b[2K     \u001b[90m━━━━━━━━━━━━━━━━━━━━━━━━━━━━━━━━━━━━━━━━\u001b[0m \u001b[32m258.1/258.1 kB\u001b[0m \u001b[31m4.4 MB/s\u001b[0m eta \u001b[36m0:00:00\u001b[0m\n",
            "\u001b[?25hRequirement already satisfied: numpy>=1.17 in /usr/local/lib/python3.10/dist-packages (from accelerate) (1.23.5)\n",
            "Requirement already satisfied: packaging>=20.0 in /usr/local/lib/python3.10/dist-packages (from accelerate) (23.2)\n",
            "Requirement already satisfied: psutil in /usr/local/lib/python3.10/dist-packages (from accelerate) (5.9.5)\n",
            "Requirement already satisfied: pyyaml in /usr/local/lib/python3.10/dist-packages (from accelerate) (6.0.1)\n",
            "Requirement already satisfied: torch>=1.10.0 in /usr/local/lib/python3.10/dist-packages (from accelerate) (2.1.0+cu118)\n",
            "Requirement already satisfied: huggingface-hub in /usr/local/lib/python3.10/dist-packages (from accelerate) (0.17.3)\n",
            "Requirement already satisfied: filelock in /usr/local/lib/python3.10/dist-packages (from torch>=1.10.0->accelerate) (3.12.4)\n",
            "Requirement already satisfied: typing-extensions in /usr/local/lib/python3.10/dist-packages (from torch>=1.10.0->accelerate) (4.5.0)\n",
            "Requirement already satisfied: sympy in /usr/local/lib/python3.10/dist-packages (from torch>=1.10.0->accelerate) (1.12)\n",
            "Requirement already satisfied: networkx in /usr/local/lib/python3.10/dist-packages (from torch>=1.10.0->accelerate) (3.1)\n",
            "Requirement already satisfied: jinja2 in /usr/local/lib/python3.10/dist-packages (from torch>=1.10.0->accelerate) (3.1.2)\n",
            "Requirement already satisfied: fsspec in /usr/local/lib/python3.10/dist-packages (from torch>=1.10.0->accelerate) (2023.6.0)\n",
            "Requirement already satisfied: triton==2.1.0 in /usr/local/lib/python3.10/dist-packages (from torch>=1.10.0->accelerate) (2.1.0)\n",
            "Requirement already satisfied: requests in /usr/local/lib/python3.10/dist-packages (from huggingface-hub->accelerate) (2.31.0)\n",
            "Requirement already satisfied: tqdm>=4.42.1 in /usr/local/lib/python3.10/dist-packages (from huggingface-hub->accelerate) (4.66.1)\n",
            "Requirement already satisfied: MarkupSafe>=2.0 in /usr/local/lib/python3.10/dist-packages (from jinja2->torch>=1.10.0->accelerate) (2.1.3)\n",
            "Requirement already satisfied: charset-normalizer<4,>=2 in /usr/local/lib/python3.10/dist-packages (from requests->huggingface-hub->accelerate) (3.3.0)\n",
            "Requirement already satisfied: idna<4,>=2.5 in /usr/local/lib/python3.10/dist-packages (from requests->huggingface-hub->accelerate) (3.4)\n",
            "Requirement already satisfied: urllib3<3,>=1.21.1 in /usr/local/lib/python3.10/dist-packages (from requests->huggingface-hub->accelerate) (2.0.7)\n",
            "Requirement already satisfied: certifi>=2017.4.17 in /usr/local/lib/python3.10/dist-packages (from requests->huggingface-hub->accelerate) (2023.7.22)\n",
            "Requirement already satisfied: mpmath>=0.19 in /usr/local/lib/python3.10/dist-packages (from sympy->torch>=1.10.0->accelerate) (1.3.0)\n",
            "Installing collected packages: accelerate\n",
            "Successfully installed accelerate-0.23.0\n"
          ]
        }
      ],
      "source": [
        "!pip install accelerate -U"
      ]
    },
    {
      "cell_type": "code",
      "execution_count": null,
      "metadata": {
        "id": "VsXT18eMdKap"
      },
      "outputs": [],
      "source": [
        "CUDA_LAUNCH_BLOCKING=1 # to stop cuda blocking"
      ]
    },
    {
      "cell_type": "markdown",
      "metadata": {
        "id": "ezRF9z5FazqL"
      },
      "source": [
        "# **Connecting google colab to drive**"
      ]
    },
    {
      "cell_type": "code",
      "execution_count": null,
      "metadata": {
        "id": "ZtjbFMNVE2uH",
        "colab": {
          "base_uri": "https://localhost:8080/"
        },
        "outputId": "6d1b1144-ebd7-48c3-c3ba-59199da50b70"
      },
      "outputs": [
        {
          "output_type": "stream",
          "name": "stdout",
          "text": [
            "Mounted at /content/drive\n"
          ]
        }
      ],
      "source": [
        "from google.colab import drive\n",
        "drive.mount('/content/drive')"
      ]
    },
    {
      "cell_type": "markdown",
      "metadata": {
        "id": "gQ0j-j6Pa7Mn"
      },
      "source": [
        "# **Importing the dependencies**"
      ]
    },
    {
      "cell_type": "code",
      "execution_count": null,
      "metadata": {
        "id": "OC0GkspcgaSv"
      },
      "outputs": [],
      "source": [
        "import json\n",
        "import random\n",
        "import numpy as np\n",
        "from sklearn.model_selection import train_test_split\n",
        "from sklearn.metrics import classification_report\n",
        "import torch\n",
        "from transformers import BertTokenizer, BertForSequenceClassification\n",
        "from transformers import AutoTokenizer, AutoModelForSequenceClassification\n",
        "from transformers import RobertaTokenizer, RobertaForSequenceClassification, T5Tokenizer, T5ForSequenceClassification,TrainingArguments, Trainer"
      ]
    },
    {
      "cell_type": "markdown",
      "metadata": {
        "id": "fBy8UZhcnAza"
      },
      "source": [
        "## Data format\n",
        "\n",
        "2 json files - `surprise.data` contains utterances, `surprise.solution` contains corresponding intents\n",
        "\n",
        "Format of `surprise.data`\n",
        "\n",
        "```json\n",
        "{\"indoml_id\": \"surprise|11109\", \"id\": \"11109\", \"utt\": \"Can I make a reservation at Buffalo Wild Wings?\"}\n",
        "{\"indoml_id\": \"surprise|11051\", \"id\": \"11051\", \"utt\": \"Can I book a table for tonight at Bella Vita?\"}\n",
        "....\n",
        "```\n",
        "\n",
        "Format of `surprise.solution` (contains 150 labels)\n",
        "\n",
        "```json\n",
        "{\"indoml_id\": \"surprise|11109\", \"intent\": \"accept reservations\"}\n",
        "{\"indoml_id\": \"surprise|11051\", \"intent\": \"accept reservations\"}\n",
        "....\n",
        "```\n"
      ]
    },
    {
      "cell_type": "markdown",
      "metadata": {
        "id": "MORlKlcxbJIv"
      },
      "source": [
        "# **Loading the data and solution of the surprise dataset**"
      ]
    },
    {
      "cell_type": "code",
      "execution_count": null,
      "metadata": {
        "id": "lNGbonX3giFg"
      },
      "outputs": [],
      "source": [
        "# Load the data from the JSON files\n",
        "with open(\"/content/drive/MyDrive/intent_classification_It_bombay/surprise_data/surprise.data\", 'r') as data_file:\n",
        "    data = [json.loads(line) for line in data_file] # converting string to object using json.loads\n",
        "\n",
        "with open(\"/content/drive/MyDrive/intent_classification_It_bombay/surprise_data/surprise.solution\", 'r') as solution_file:\n",
        "    solutions = [json.loads(line) for line in solution_file] # converting string to object using json.loads\n",
        "\n",
        "# with open('/content/drive/MyDrive/Intent_classification_IIT_BOMBAY/Dataset/massive_test_phase2_data/massive_test.data', 'r') as test_file:\n",
        "#     test = [json.loads(line) for line in test_file]\n",
        "\n"
      ]
    },
    {
      "cell_type": "code",
      "execution_count": null,
      "metadata": {
        "colab": {
          "base_uri": "https://localhost:8080/"
        },
        "id": "x-JPWetxglua",
        "outputId": "8ea300a1-9081-490a-c01c-9a6393505b93"
      },
      "outputs": [
        {
          "output_type": "stream",
          "name": "stdout",
          "text": [
            "{'indoml_id': 'surprise|11109', 'id': '11109', 'utt': 'Can I make a reservation at Buffalo Wild Wings?'}\n"
          ]
        }
      ],
      "source": [
        "print(data[0]) # data of the surpirse dataset having id and the utterances"
      ]
    },
    {
      "cell_type": "code",
      "execution_count": null,
      "metadata": {
        "id": "VwrtNFpg6BcW",
        "outputId": "de6d4dd6-2a61-46cc-d832-2a62f36fe033",
        "colab": {
          "base_uri": "https://localhost:8080/"
        }
      },
      "outputs": [
        {
          "output_type": "execute_result",
          "data": {
            "text/plain": [
              "['Can I make a reservation at Buffalo Wild Wings?',\n",
              " 'Can I book a table for tonight at Bella Vita?',\n",
              " 'Does the Cheesecake Factory take reservations?',\n",
              " 'Do they take reservations at Outback Steakhouse in Las Vegas?',\n",
              " \"does chili's take reservations?\",\n",
              " 'Can I make a reservation at The French Laundry in Yountville?',\n",
              " 'Can I check availability and make a reservation online?',\n",
              " \"Can you tell me if Carrabba's in Houston accepts reservations\",\n",
              " 'Do you have any availability for next weekend at the Brasserie?',\n",
              " 'Does Buffalo Wild Wings take reservations for sports games',\n",
              " 'Is it possible to reserve a table in advance at this restaurant?',\n",
              " 'Does Olive Garden in San Francisco take reservations?',\n",
              " \"Where can I find reservation information for Applebee's?\",\n",
              " 'Can I reserve a table at Alinea in Chicago?',\n",
              " 'Does the Pizza Parlor accept reservations for parties of five or more?',\n",
              " 'Why did my brokerage account suddenly get locked?',\n",
              " \"I've tried to log into my Chase account, but it's still blocked, and I don't know how long it will last.\",\n",
              " 'what caused the sudden suspension of my business account without prior notice?',\n",
              " 'How did I end up getting locked out of my account without any prior notice?',\n",
              " \"It's frustrating when you can't use your own money because of some technical glitch.\",\n",
              " \"How long will my account remain inaccessible before it's unblocked?\",\n",
              " 'Can someone tell me why my account has been suspended?',\n",
              " \"I'm getting worried because my bank account has been locked for some reason.\",\n",
              " \"Can't believe I got locked out of my own account without any notice!\",\n",
              " \"I'm getting frustrated since I can't seem to figure out why my account has been locked.\",\n",
              " 'Why did my bank freeze my account without notice?',\n",
              " 'Why is my bank account not accessible right now?',\n",
              " \"I'm having trouble accessing my Cash App account due to an unexpected block.\",\n",
              " 'Can someone explain why my investment account has been frozen?',\n",
              " \"I can't seem to access my funds due to an unexpected restriction on my account.\",\n",
              " \"I'd appreciate it if you could set an alarm for 3 pm so I don't forget to take my medication.\",\n",
              " \"Set an alarm for 12:30 pm so I don't forget my lunch appointment.\",\n",
              " \"Schedule an alarm for my doctor's appointment at 2 pm\",\n",
              " 'Set an alarm on your watch for 12 pm next week.',\n",
              " 'Can you set an alarm for my work shift starting at 9 am',\n",
              " \"Set two alarms for me, one at 8 am and another at 12 pm, so I don't miss my important deadlines today.\",\n",
              " \"I would appreciate it if you could set an alarm for my daughter's soccer game.\",\n",
              " 'Make an alarm for my fitness tracker to remind me to move around every hour.',\n",
              " \"Set an alarm clock for 6 AM so I don't oversleep.\",\n",
              " 'Could you please set an alarm for 3:30 PM and another for 8 PM tomorrow morning?',\n",
              " 'Would you please set an alarm for my coffee break at 10am?',\n",
              " 'Help me set an alarm for 1 pm so I can remember to call my mom and wish her a happy birthday.',\n",
              " 'Set two alarms for 7 am and 12 pm so I can have enough time to prepare for work and lunch respectively.',\n",
              " 'I need an alarm to go off at 10 pm to wind down.',\n",
              " 'I need you to set an alarm for 9:00 am tomorrow.',\n",
              " 'Could you please tell me whether my visa application has been approved or denied?',\n",
              " 'Has anyone checked on the status of my application for the Capital One Guaranteed Mastercard',\n",
              " 'How is my application for a discover it card coming along?',\n",
              " 'Is there any update on the status of my Citi application?',\n",
              " 'Could you kindly tell me whether my passport application has been completed?',\n",
              " 'What is the latest update on my us bank cash+ card application?',\n",
              " 'Is there any news regarding the status of my Bank of America application?',\n",
              " 'I would appreciate it if someone could inform me about the progress of my Chase application.',\n",
              " 'I would like to inquire about the status of my medical school application. Are they still accepting applications?',\n",
              " 'Could you please give me an update on the status of my Wells Fargo application?',\n",
              " 'Would you mind letting me know if my car insurance application has been processed',\n",
              " \"I'm eagerly waiting to find out if my loan application has been accepted.\",\n",
              " 'Can you tell me whether my application for the new USAA credit card has been approved or not?',\n",
              " 'Kindly provide me with an update on the status of my visa application.',\n",
              " 'Can you tell me the current status of my chase freedom unlimited application?',\n",
              " 'Can you tell me the current APR for my US Bank Cash+ Visa Card?',\n",
              " 'How good is the APR on my credit card?',\n",
              " 'Can you please explain how apr affects my credit utilization ratio',\n",
              " 'what is the apr for my capital one card?',\n",
              " \"Can you please provide me with my credit card's apr details?\",\n",
              " 'what is the apr on my wells fargo credit card?',\n",
              " \"Is it possible to lower my credit card's APR\",\n",
              " 'how do I calculate my apr on my discovery card?',\n",
              " \"I'm not sure if I understand the difference between apr and interest rate. Can you explain it to me in simple terms?\",\n",
              " 'How does the APR on my Wells Fargo card compare to other cards in the market?',\n",
              " \"What's the APR of my Discover card?\",\n",
              " \"Kindly provide me with my credit card's apr details.\",\n",
              " 'could you please provide me with the apr details of my credit card?',\n",
              " 'Could you please tell me the apr of my credit card? I want to stay on top of my finances and avoid any surprise charges.',\n",
              " 'I would love to learn about the apr on my discover card.',\n",
              " \"I'm impressed by your intelligence; are you a human or a machine?\",\n",
              " \"You're so good at understanding my questions; it's like you're a real person!\",\n",
              " \"Can you prove you're not just a program?\",\n",
              " \"It's hard to believe you're not a machine, isn't it?\",\n",
              " \"It's great chatting with you; do you have feelings too?\",\n",
              " \"You're so quick to respond; are you a real person or a machine?\",\n",
              " \"I bet you're a highly advanced AI, aren't you?\",\n",
              " \"I can't believe you're this helpful!\",\n",
              " \"I don't think you're a human, are you?\",\n",
              " \"I'm glad I'm talking to a real person, not a machine.\",\n",
              " 'Do you have feelings like a real person?',\n",
              " \"Are you sure you're not a machine?\",\n",
              " 'Can you tell me your secret? Are you a real person or a bot?',\n",
              " \"I'm starting to feel like you're not just a chatbot.\",\n",
              " 'Is there any chance you might be an AI?',\n",
              " 'How do I ensure that my spending is in line with my income, so I can maintain a stable financial position?',\n",
              " 'Can you please inform me about the current state of my financial equilibrium, including any outstanding debts or credits?',\n",
              " \"Can you please check my account balance for me? I'm not sure how much is left.\",\n",
              " \"It's important to maintain a balance between short-term goals and long-term aspirations.\",\n",
              " 'how much does my credit card debt currently weigh against my budget?',\n",
              " 'Can you tell me my current bank balance so I can make informed financial decisions?',\n",
              " 'I would like to know the current status of my financial equilibrium.',\n",
              " 'How much is left in my savings account after transferring the funds to my checking account?',\n",
              " \"Can you please tell me the current balance of my retirement account? I want to make sure I'm saving enough for my future\",\n",
              " 'Can you please give me an update on my current account balance',\n",
              " 'How much cash do I have available at the moment?',\n",
              " \"I'd like to know my account balance so I can transfer some money to my savings account.\",\n",
              " 'will i be able to pay my rent on time?',\n",
              " 'Can you provide me with an update on my account balance, so I can plan accordingly for upcoming bills and expenses?',\n",
              " 'How much cash do I currently have in my bank accounts?',\n",
              " 'How much money do I have available on my prepaid debit card this month',\n",
              " 'How much do I need to pay towards my rent and utilities this month?',\n",
              " 'I would like to know the amount due on my Time Warner Cable bill this month.',\n",
              " 'How much am I expected to pay towards my student loans this month?',\n",
              " 'Can you please tell me the current balance of my Amazon Prime membership?',\n",
              " 'How much is the total amount I need to pay for all my utility bills this month?',\n",
              " 'Is there anything due on my phone bill this month?',\n",
              " 'Could you please tell me how much I owe on my Time Warner Cable account?',\n",
              " 'Do you know how much I owe on my Dish Network subscription?',\n",
              " 'What is the current balance on my Suddenlink bill',\n",
              " 'What is the current balance on my bank account?',\n",
              " 'Can you please give me an overview of all my bills and their respective balances',\n",
              " 'Can you please tell me how much I need to pay for my water bill this month?',\n",
              " 'Kindly inform me of the present balance on my AT&T account.',\n",
              " 'Can you please inform me of the exact amount I need to pay for my insurance premium?',\n",
              " 'What date does my Verizon bill come due?',\n",
              " 'Can you remind me when my credit card bill is due?',\n",
              " 'Where can I find out when my phone bill is due?',\n",
              " 'When is the last day I can pay my American Express credit card bill without incurring a late fee?',\n",
              " \"I can't seem to recall when my electricity bill is due.\",\n",
              " 'Is there a late fee if I miss the due date on my credit card bill?',\n",
              " 'Can you let me know when my utility bill is due so I can budget accordingly',\n",
              " 'What time of the month does my Wells Fargo credit card bill typically come due?',\n",
              " 'I need to know when my cable bill is due this month.',\n",
              " 'what happens if i forget to pay my property tax bill?',\n",
              " 'Can you please send me an email reminder when my car insurance premium is due',\n",
              " 'How do I determine when my Amazon Prime membership is due for renewal?',\n",
              " 'can i still use my credit card if my credit card payment is late?',\n",
              " 'When does my Verizon Wireless bill come due this month?',\n",
              " 'What time of the month does my gym membership bill usually come due?',\n",
              " 'I want to book a round-trip flight from YOW to YUL with Air Canada.',\n",
              " 'please book me a flight from denver to salt lake city on Frontier airlines for next tuesday',\n",
              " 'Book a one-way ticket from Dallas to Denver on United Airlines for next week.',\n",
              " 'I am interested in finding a non-stop flight from Atlanta to Miami for my upcoming vacation.',\n",
              " 'Can you please book me a flight from detroit to cleveland on spirit airlines',\n",
              " 'what airline has flights round trip from jfk to lga on march 15 for under $400?',\n",
              " 'Compare fares for flights from Seattle to Bangkok on Thai Airways and book the cheapest option.',\n",
              " 'I want to travel from boston to new york city on wednesday, can you help me find a flight?',\n",
              " 'book a flight from Tampa, Fl to Baltimore, Md on February 11, 2019, and return on March 19, 2019.',\n",
              " 'I want to book a round-trip flight from Dallas to Houston on Delta Air Lines.',\n",
              " 'reserve a flight from Boise to Sacramento on Sunday and return on Wednesday.',\n",
              " 'Could you please book a flight from Houston to Austin on March 17th for less than $250?',\n",
              " 'Book a flight from Boston to Philadelphia on November 1 that brings you back on November 4.',\n",
              " 'Could you please book a one-way flight from Houston to Chicago on May 15th for under $200',\n",
              " 'book a flight from minneapolis to milwaukee on wednesday and returning on friday.',\n",
              " 'Are there any hotels in Washington D.C. that have availability from March 26th to March 28th',\n",
              " 'I would like to reserve a hotel room in Dallas that has a large conference space and is close to the airport.',\n",
              " 'I want to stay in a hotel in Miami Beach with an oceanfront view and a private beach.',\n",
              " 'Is it possible to book a hotel room for 10 people from Saturday to Sunday in Houston?',\n",
              " 'I want to stay at a hotel in London from April 1st to April 3rd. Can you help me find one?',\n",
              " 'Can you suggest a cozy hotel in Denver with excellent customer service?',\n",
              " 'Kindly assist me in finding a hotel that can accommodate 20 people in Phoenix from February 1st to February 10th?',\n",
              " 'Can you find me a hotel in Los Angeles that has good reviews and can accommodate 30 people from December 15th to December 31st?',\n",
              " 'Could you find me a hotel in Washington D.C. with a rooftop bar and a view of the monuments?',\n",
              " 'Help me locate a hotel in Chicago with good restaurants nearby.',\n",
              " 'I need a hotel reservation in Denver from December 1st to December 7th',\n",
              " 'Are there any hotels in Paris with Michelin-starred restaurants?',\n",
              " 'Would you please find me a hotel in Austin that can accommodate 12 people from September 1st to September 3rd?',\n",
              " 'I need a hotel in Seattle with easy access to public transportation.',\n",
              " 'Can you help me book a hotel in Miami Beach with a private beach?',\n",
              " 'what is 15 plus 12?',\n",
              " 'What is the sum of 8 and 7?',\n",
              " 'Could you please solve for x in the equation 3x + 5 = 22?',\n",
              " 'What is the area of a triangle with base 5 cm and height 6 cm?',\n",
              " 'what is 7 times 8?',\n",
              " 'What is 23 multiplied by 17?',\n",
              " 'What is the equation of this line',\n",
              " 'What is the result of subtracting 19 from 37?',\n",
              " 'What is the volume of this cylinder?',\n",
              " 'If I have $150 and spend $30 on a shirt, how much will I have left?',\n",
              " 'Can you calculate the area of this triangle for me?',\n",
              " 'What is the value of x in the formula 3x + 2 = 7?',\n",
              " 'Can you show me how to graph the function y = x^2 on a graphing calculator?',\n",
              " 'What is the cube root of 69?',\n",
              " 'What is the time it takes for a car to travel 200 miles at a speed of 60 mph?',\n",
              " \"I want to know when my son's baseball game is so I can plan my day accordingly.\",\n",
              " 'Is there anything important noted on my calendar for today?',\n",
              " 'Can you give me an overview of my March 15th calendar',\n",
              " 'Can you please remind me of the meeting on my calendar for Wednesday at 2 PM',\n",
              " 'Tell me about the events on my calendar for next week.',\n",
              " 'Can you please show me my schedule for the rest of the month?',\n",
              " 'Can you please remind me of everything I have scheduled for March 15?',\n",
              " 'I want to know when my next dentist appointment is so I can schedule it in my calendar and remember to go',\n",
              " 'Read my appointments for March.',\n",
              " \"Can you tell me what's on my calendar for next Friday?\",\n",
              " 'Can you please check if I have any meetings scheduled for next week on my calendar?',\n",
              " 'What time is my flight on Friday?',\n",
              " \"What time is my doctor's appointment on my calendar for today?\",\n",
              " 'Did I add the party to my Google Calendar?',\n",
              " 'Does my calendar show any events for tomorrow?',\n",
              " 'I would like to cancel my reservation for tonight.',\n",
              " 'add yoga class to my schedule for thursday morning.',\n",
              " 'add my yoga class for tomorrow at 6 am to my calendar.',\n",
              " 'add vacation to my calendar for next month.',\n",
              " \"set a reminder for my son's birthday party on saturday.\",\n",
              " 'transfer the car maintenance appointment to next month due to scheduling conflict',\n",
              " \"Update my calendar with the new time for the doctor's appointment on September 22nd.\",\n",
              " 'I want to change the time of my yoga class to 6 AM.',\n",
              " 'I need to transfer my conference call to tomorrow morning.',\n",
              " 'Kindly add the dentist appointment to my calendar for March 15th at 2 pm.',\n",
              " 'Remove the football game on September 2nd from my calendar',\n",
              " \"Leave the doctor's appointment open on my calendar until further notice.\",\n",
              " 'can you please move the team lunch from friday to wednesday this week?',\n",
              " 'Remove the football game from my calendar.',\n",
              " 'Add the fitness class to my calendar every Monday morning.',\n",
              " 'a cup of mixed berries contains roughly 60 calories.',\n",
              " 'what is the approximate number of calories in a serving of grilled chicken breast',\n",
              " 'how many calories are in a bag of potato chips?',\n",
              " 'how many calories are in a burrito?',\n",
              " 'a slice of whole wheat bread (1 slice) contains approximately 89 calories.',\n",
              " 'find out the number of calories in a slice of pepperoni pizza.',\n",
              " 'how many calories are in a serving of stir-fry vegetables?',\n",
              " 'what is the approximate calorie count of a cup of cooked quinoa',\n",
              " 'how many calories are there in a pear?',\n",
              " 'how many calories are in a slice of cheese pizza?',\n",
              " 'how many calories does a slice of pepperoni pizza contain?',\n",
              " 'can you tell me the approximate number of calories in a slice of pizza?',\n",
              " 'how many calories are in a slice of watermelon?',\n",
              " 'how many calories does this pizza have?',\n",
              " 'how many calories are there in a cup of unsweetened almond milk?',\n",
              " 'call off the meeting scheduled for today.',\n",
              " \"I'm afraid I won't be able to finish this task on time, so I'd like to cancel it.\",\n",
              " 'Can you reverse your previous decision?',\n",
              " 'Halt the ongoing project immediately!',\n",
              " \"I've had a change of heart about the project, so let's scrap it for now.\",\n",
              " 'Could you please cancel my hotel reservation?',\n",
              " 'Disavow any involvement in that endeavor.',\n",
              " 'Cancel our reservation at the restaurant tonight',\n",
              " 'Cancel the event that was scheduled for tomorrow',\n",
              " 'Halt the production of that product.',\n",
              " 'Postpone the meeting until next week.',\n",
              " 'I need you to undo what you did earlier.',\n",
              " \"I need you to stop whatever you're working on right now.\",\n",
              " 'Could you please terminate this conversation?',\n",
              " 'Stop whatever you are doing right now and cancel it immediately.',\n",
              " 'Cancel the reservation for Joe and me right now for the Zephers reservation we had booked.',\n",
              " 'Kindly eliminate my booking for three at The Restaurant at Meadowood.',\n",
              " 'Please discontinue the reservation I made for two guests at The Blue Lagoon on Saturday night.',\n",
              " 'I would like to cancel the reservation for the spa treatment on Monday afternoon.',\n",
              " \"I'm not feeling well, so I don't think I'll be able to make it to the appointment today. Would you mind canceling it?\",\n",
              " 'I would appreciate it if you could annul my booking for tomorrow night at The Black Pearl.',\n",
              " 'I wish to discontinue my reservation for two at the Italian restaurant.',\n",
              " \"I'd appreciate it if you could cancel the reservation for the flight we booked last month.\",\n",
              " 'Could you please cancel my reservation for the cooking class that was scheduled for next Saturday?',\n",
              " 'I would appreciate it if you could cancel my reservation at the spa.',\n",
              " 'I would like to cancel our table for tonight.',\n",
              " 'Please cancel the reservation under the name of John Smith at the steakhouse.',\n",
              " 'I would like to cancel my table for 8pm at Bistro Bliss.',\n",
              " \"Unfortunately, I won't be able to attend the conference next week, so could you please cancel my registration?\",\n",
              " 'Kindly eradicate my 6:00 PM reservation',\n",
              " 'Can you please reserve a car rental for me in Chicago between August 1st to August 5th and pick a Kia?',\n",
              " 'I am planning a family vacation in Orlando and would like to know if there are any car rental companies that offer discounts for large groups.',\n",
              " 'I am interested in renting an electric car in Seattle for a road trip along the Pacific Coast Highway. Can you provide more information on these types of vehicles?',\n",
              " 'Book me a car rental in San Francisco from January 20-27.',\n",
              " 'can I pick up my rental car at the airport in chicago?',\n",
              " 'Can you give me information on car rentals in San Francisco?',\n",
              " 'Can you provide me with information on renting a car in San Francisco?',\n",
              " 'What are the rates for renting a car in Dallas for a period of two weeks starting from March 1st?',\n",
              " 'Can you help me rent a car in Los Angeles from March 29-April 5?',\n",
              " 'I will be traveling to Miami from April 10th to April 15th and would like to rent a car during my stay.',\n",
              " 'I need to rent a car in Chicago for a business trip in March. Can you offer any discounts or promotions?',\n",
              " 'I am interested in renting a luxury car in Los Angeles for my wedding day. Can you provide recommendations?',\n",
              " 'what type of cars do they have available for rent in new york city?',\n",
              " \"I'd like to rent a car in New York City from April 1-8. Could you please help?\",\n",
              " 'Can you help me locate a rental car agency in Denver for March 15 to 19?',\n",
              " 'I was hoping to get a new TV, but my card was declined at Costco.',\n",
              " 'i went to tj maxx looking for a new pair of shoes but my card got denied.',\n",
              " \"I'm curious about why my card was rejected at Trader Joe's\",\n",
              " 'While shopping online, I received an error message saying my card was declined, so I had to use an alternative payment method.',\n",
              " 'How can I fix the problem with my card?',\n",
              " 'Can you tell me why my card was declined at Walgreens?',\n",
              " 'I want to know why my bank card was not accepted at the mall yesterday afternoon.',\n",
              " \"I can't believe my card got turned down at the gas station!\",\n",
              " 'I was at the mall trying to buy a new dress when my card got rejected.',\n",
              " 'I wanted to buy a new video game online but my card got rejected.',\n",
              " \"I was confused when my card wasn't accepted at the restaurant last night.\",\n",
              " 'i was at home depot trying to buy some tools when my card got rejected.',\n",
              " 'I was really looking forward to buying that new book, but my card was declined at Barnes & Noble.',\n",
              " \"I'm curious about the reason behind my card being rejected at the grocery store yesterday.\",\n",
              " \"I was confused when my card didn't work at the bakery because I had enough money in my account\",\n",
              " 'Kindly provide information regarding the carry-on limitations for Virgin America.',\n",
              " 'How early should I arrive at the airport to drop off my carry-on bag before my flight',\n",
              " 'Are there any restrictions on carrying on a stroller on delta flights?',\n",
              " 'Are there any additional fees for checking a carry-on bag on a Southwest Airlines flight from Houston to Las Vegas?',\n",
              " 'Does Alaska Airlines allow passengers to bring multiple carry-on bags on a flight?',\n",
              " 'Are there any restrictions on the size of my carry-on bag for a Frontier Airlines flight?',\n",
              " 'Do I need to pay extra fees to bring a pet carrier as a carry-on on Emirates flights',\n",
              " 'Does Allegiant Air allow passengers to bring a carry-on bag and a personal item?',\n",
              " 'Does JetBlue allow passengers to bring a carry-on bag and a personal item on a flight from Boston to Fort Lauderdale?',\n",
              " 'Does United Airlines allow passengers to check in their carry-on bags at the gate?',\n",
              " 'Are there any weight limits for carry-on bags on Turkish Airlines?',\n",
              " 'How many carry-ons am I allowed to take on a United flight to New York City?',\n",
              " 'What are the dimensions of a carry-on bag that I can bring on a United Airlines flight from Chicago to Denver?',\n",
              " 'Can I bring my stroller as a carry-on on a JetBlue flight?',\n",
              " 'Does Spirit Airlines allow passengers to bring one carry-on bag and one personal item on board?',\n",
              " 'I would love for you to adopt a charming American twang!',\n",
              " \"I'm curious to hear how you sound in a Cockney accent.\",\n",
              " 'can you talk like a Canadian?',\n",
              " 'Would you mind speaking with a more laid-back, California-style accent?',\n",
              " 'give your words a rich, cultured Indian accent.',\n",
              " \"let's experiment with some new vocal patterns!\",\n",
              " 'Kindly adopt a Nigerian accent for this conversation',\n",
              " \"I'll try speaking with a quirky Spanish accent for this chat.\",\n",
              " 'switching to a different inflection would be great!',\n",
              " 'try on a Boston brogue for size.',\n",
              " 'I would prefer it if you spoke with a more formal, proper English accent.',\n",
              " \"let's hear you speak in a different accent!\",\n",
              " 'Can you please attempt a sophisticated Japanese accent?',\n",
              " \"I'd like to hear your voice in an Australian accent, mate!\",\n",
              " 'Could you please shift to a deeper, more resonant male voice?',\n",
              " 'May I modify your moniker to something more fitting?',\n",
              " 'Can I start calling you Ethel?',\n",
              " 'I think the name River suits you well.',\n",
              " 'Could you kindly alter your appellation to something more appealing?',\n",
              " 'would you prefer if i called you brody',\n",
              " 'can we give it a more fitting name?',\n",
              " 'I would love to dub thee with a fresh handle!',\n",
              " \"i have a feeling that 'zelda' would suit you better.\",\n",
              " 'would you prefer i refer to this ai by a different name?',\n",
              " 'i wish to address you as caroline.',\n",
              " 'Can I interest you in a name change to \"Astrid\"?',\n",
              " 'can i suggest a few alternative names for you?',\n",
              " 'can i call you something different, like ethan?',\n",
              " 'i think it would be great if we could change your name to something funnier.',\n",
              " 'how about we rename this ai to something more memorable?',\n",
              " 'Could you please communicate in French?',\n",
              " 'how do I alter the spoken language?',\n",
              " 'I would love to hear you speak in Turkish',\n",
              " 'Kindly alter my language preference to Japanese.',\n",
              " 'I would appreciate it if you could change my language to Mandarin Chinese.',\n",
              " 'Would it be possible for you to speak in Arabic?',\n",
              " 'Kindly switch to Japanese so we can communicate more effectively.',\n",
              " 'Can you please change your language to Italian?',\n",
              " 'could we switch to speaking mandarin?',\n",
              " 'can you switch to english for this conversation?',\n",
              " 'Can you communicate with me in Japanese?',\n",
              " 'set your language preference to Turkish.',\n",
              " 'Can you alter my language settings to French?',\n",
              " 'would you mind switching to polish for this interaction?',\n",
              " 'I would prefer to communicate in Spanish.',\n",
              " 'Your rapid-fire delivery is impressive, but I have trouble keeping up; could you please slow down a bit?',\n",
              " \"Can you please slow down your typing? It's hard to keep up.\",\n",
              " \"Could you please slow down your speech? It's hard for me to keep up.\",\n",
              " 'Can you talk any slower?',\n",
              " \"Could you please slow down your speech so I can better absorb the information you're conveying?\",\n",
              " 'Your rapid-fire delivery is making my head spin! Can you dial it back a notch?',\n",
              " \"Could you please slow down your presentation? It's hard to follow along when you're moving so fast.\",\n",
              " 'Your rapid utterances make it hard for me to keep up with your thoughts; could you please slow down your speech?',\n",
              " \"I'm afraid I can't follow what you're saying; you're moving too quickly for me. Could you slow down?\",\n",
              " 'I struggle to follow your words when you talk quickly; kindly adjust your tone accordingly.',\n",
              " \"Could you please slow down a bit? I'm having trouble understanding you.\",\n",
              " 'Would it be possible for you to speak at a more moderate pace?',\n",
              " 'Could you please slow down your words?',\n",
              " 'Could you please take your time when speaking?',\n",
              " 'Your fast speech makes it challenging for me to understand your message; could you please modify your tone?',\n",
              " 'Could you kindly update my profile with my new name, Emily?',\n",
              " 'I wish you could refer to me as Charlotte instead of Benjamin.',\n",
              " 'I would prefer it if you called me Sarah instead of Samantha.',\n",
              " \"I'd be happy with any nickname you choose!\",\n",
              " 'My new name is Ruby, please use it moving forward.',\n",
              " 'you can address me as samantha.',\n",
              " \"I'd prefer it if you called me Emily instead of Elizabeth.\",\n",
              " \"I'd love it if you could start referring to me as Ava instead of Amelia.\",\n",
              " 'Kindly call me Rachel instead of Tom.',\n",
              " 'Some folks call me Steve.',\n",
              " \"Hi there! I'd like to be referred to as Jaxon moving forward. Thanks!\",\n",
              " 'How about we stick with Emily?',\n",
              " 'Would you prefer I call you Bob?',\n",
              " 'From today onwards, I would prefer to be referred to as Ava.',\n",
              " \"I'd appreciate it if you could start calling me David.\",\n",
              " 'I would like you to lower the volume of your voice.',\n",
              " 'crank up the stereo.',\n",
              " 'boost the audio.',\n",
              " 'raise the volume to 4 please)',\n",
              " 'increase volume to 4)',\n",
              " 'bump up the volume.',\n",
              " 'I wish there was a way to adjust the volume of your voice.',\n",
              " 'Your voice is too soft; could you raise it a bit?',\n",
              " 'can you turn this down)',\n",
              " 'please adjust your settings)',\n",
              " 'adjust the sound level.',\n",
              " 'modify the volume level.',\n",
              " 'i would like the volume lower)',\n",
              " 'i need you to increase your speaker volume)',\n",
              " 'get louder)',\n",
              " 'can you confirm my reservation for 4pm at Red Lobster?',\n",
              " 'Could you kindly confirm whether or not I have a reservation at 6 pm this evening?',\n",
              " 'Could you kindly inform me if I have a reservation at the Thai place for next Wednesday?',\n",
              " 'can you confirm if i have a reservation at pizza hut for tonight?',\n",
              " 'Kindly confirm my reservation for the wine tasting event on Sunday at 2pm?',\n",
              " 'I would love to have my reservation confirmed for the 15th of this month at 6 pm.',\n",
              " 'can you confirm my reservation for 5pm at Pizza Hut?',\n",
              " 'Could you please let me know if my reservation for tomorrow night at Bistro 31 is still on?',\n",
              " \"Could you kindly confirm if I have a reservation for dinner at Carrabba's on Friday at 6 pm?\",\n",
              " 'I would love it if you could confirm my reservation for Saturday evening at The Capital Grille.',\n",
              " \"Can you please let me know if I have a reservation for two at the French bistro for Valentine's Day dinner?\",\n",
              " 'Could you please check if we have a table reserved at the Taste of Thailand for dinner tonight?',\n",
              " 'Can you please confirm if I have a reservation for a party of four at 3 pm this Saturday?',\n",
              " \"I'm calling to confirm my reservation for the concert tonight at 9pm.\",\n",
              " 'May I have your assistance in verifying if I have a reservation scheduled for next Sunday at 3 PM?',\n",
              " 'how many minutes should I bake the pizza for?',\n",
              " 'how long should I steam broccoli for?',\n",
              " 'how long should I let the pizza crust rise before baking?',\n",
              " 'how long should i cook pasta in boiling water?',\n",
              " 'how long does it take to sauté onions?',\n",
              " 'how long does it take to make risotto?',\n",
              " 'how long should I bake potatoes?',\n",
              " 'how long does it take to roast vegetables?',\n",
              " 'how long should I roast the sweet potatoes for?',\n",
              " 'how long does it take to boil water for tea?',\n",
              " 'how many minutes should I bake the chicken breasts?',\n",
              " 'how long does it take to make homemade bread from scratch?',\n",
              " 'how long does it take to sauté onions?',\n",
              " 'how long does it take to roast vegetables in the oven?',\n",
              " 'how long should I braise short ribs?',\n",
              " 'Kindly provide me with my credit limit details so I can manage my finances effectively.',\n",
              " 'how do i find out my credit limit on my us bank credit card?',\n",
              " 'what are the potential consequences of exceeding my credit limit',\n",
              " 'Can you tell me my credit limit for my Bank of America account?',\n",
              " 'how can i find out my credit limit for my discover card?',\n",
              " 'how high is my credit limit for my bank of the west card?',\n",
              " 'Can you tell me if I have reached my credit limit on my Citi Double Cash Card?',\n",
              " 'Can you please inform me about my credit limit on my capital one card?',\n",
              " 'I want to know the maximum amount I can charge on my Capital One card without incurring any finance charges.',\n",
              " 'What is my current credit limit on my Discover it cash back credit card?',\n",
              " 'I need to know the exact amount of my credit limit so I can plan my expenses better.',\n",
              " 'Can you please provide me with information regarding my credit limit on my Bank of America card',\n",
              " 'how does my credit limit affect my ability to make purchases?',\n",
              " 'how can i check my credit card limit?',\n",
              " 'I would like to check my Mastercard spending limit, please.',\n",
              " 'How do I go about changing my credit limit on my Citi card?',\n",
              " 'Would it be possible to increase my credit limit to $750?',\n",
              " 'I wish to enhance my current credit limit on my discover card.',\n",
              " 'Can I get a higher credit limit on my Wells Fargo card?',\n",
              " 'Can I get a higher credit limit on my Bank of America Core® Secured Mastercard?',\n",
              " 'Will you allow more spending on my Visa?',\n",
              " \"I'm hoping to get a higher credit limit on my American Express card. Can you make that happen?\",\n",
              " 'Can I request a larger credit limit on my Capital One card? It would be greatly appreciated.',\n",
              " 'Can I get a higher credit limit on my us bank card?',\n",
              " 'Is it possible to get a higher credit limit on my barclays credit card?',\n",
              " 'I would appreciate it if you could consider increasing my credit limit on my chase card.',\n",
              " 'Can I increase my credit limit on my Bank of America Core® Secured credit card?',\n",
              " 'Is it possible to get a higher credit limit on my Capital One Guaranteed Mastercard',\n",
              " 'Could you please inform me if my credit limit can be increased on my us bank credit card?',\n",
              " 'Can I request a credit limit increase for my Capital One card?',\n",
              " 'What factors affect my credit score?',\n",
              " 'How often does my credit score change',\n",
              " 'Can I use my credit score to negotiate better interest rates on loans?',\n",
              " 'Can I see my credit report along with my credit score?',\n",
              " 'How do I find out my credit score?',\n",
              " 'Can I check my credit score online for free',\n",
              " 'Is it hard to raise my credit score?',\n",
              " 'What is the average credit score in the United States?',\n",
              " 'Can you help me dispute errors on my credit report?',\n",
              " 'Is there a way to see my credit score without affecting it?',\n",
              " 'How can I view my credit score?',\n",
              " 'Can you provide me with my credit score?',\n",
              " 'What type of credit score do I have?',\n",
              " 'I am interested in learning more about my credit score and how it impacts my financial life.',\n",
              " 'Can you give me an update on my credit score?',\n",
              " 'I want to know my exact GPS coordinates where I currently stand.',\n",
              " 'How do I find my current location?',\n",
              " 'Can you please update my current location on the map so I can track my progress',\n",
              " \"I'm trying to navigate through this unfamiliar neighborhood. Can you please show me my current location on a map?\",\n",
              " 'Can you give me directions to my current location?',\n",
              " 'Could you pinpoint my exact location on the map?',\n",
              " 'What is my current GPS coordinate?',\n",
              " 'What are my GPS coordinates right now?',\n",
              " \"I'm not sure where I am right now. Can you tell me my current location?\",\n",
              " 'Can you tell me my current location via satellite imagery?',\n",
              " 'How can I find my current location on a map?',\n",
              " 'What GPS coordinates am I currently located at?',\n",
              " 'Can you please give me my current location details?',\n",
              " 'Give me my current location on the map.',\n",
              " 'Is it possible to determine my current location?',\n",
              " 'my card has sustained such extensive damage that it is now useless.',\n",
              " 'My card has been damaged due to exposure to water, and I need to request a replacement.',\n",
              " 'My damaged card needs to be reported to the company urgently so they can send a replacement.',\n",
              " 'my card got wet and stopped working.',\n",
              " 'I left my credit card on a beach towel and it got sand-blasted beyond recognition.',\n",
              " 'my child swallowed my credit card and needs medical attention.',\n",
              " 'I need to notify the bank about my damaged card to avoid any inconvenience or financial loss',\n",
              " 'My card is no longer functional after being stepped on by my cat.',\n",
              " \"I can't use my ID card because it got wet during the storm last night.\",\n",
              " \"I bent my driver's license while trying to fit it into a small wallet.\",\n",
              " 'my card fell apart after being exposed to rain; can i get a new one?',\n",
              " 'I received my new credit card but the packaging was damaged during shipping; what should I do?',\n",
              " 'I discovered that my gift card had been damaged during shipping; can I still use it?',\n",
              " 'my card has been stolen; can i cancel it and get a new one?',\n",
              " 'My card has been damaged by a faulty ATM machine, and I want to file a complaint.',\n",
              " 'Can you tell me the date of my birthday?',\n",
              " 'What date did you say the package would arrive? Paraphrased sentence: When did you mention the package was expected to arrive?',\n",
              " 'Kindly provide me with the date of the next job interview I have scheduled.',\n",
              " 'When is the deadline for submitting the project report?',\n",
              " 'in 2 days, what date will it be?',\n",
              " 'I am eagerly anticipating the date of the next exhibition at the museum.',\n",
              " 'Can you please inform me about the date next Friday?',\n",
              " 'Can you give me the date tomorrow',\n",
              " 'Can you give me the date of the party we are planning for next month?',\n",
              " 'Can you tell me the date of next week?',\n",
              " 'What will the date be 100 days from now?',\n",
              " 'Show me a calendar for next week.',\n",
              " 'What is the current date?',\n",
              " 'I need to know what date it is tomorrow.',\n",
              " 'what is the date?',\n",
              " 'explain the definition of bubbly',\n",
              " 'Can you explain the definition of \"gratitude\" and why it\\'s important for personal growth?',\n",
              " 'Can you provide the definition of \"tintinnabulation\"?',\n",
              " 'Can you explain the definition of \"mindfulness\" and how it can benefit one\\'s well-being?',\n",
              " \"what does it mean when someone says 'moxie'.\",\n",
              " 'what is the definition of perspicacious?',\n",
              " 'how does existentialism differ from other philosophical movements?',\n",
              " 'Can you provide a detailed explanation of the concept of \"patriarchy\"?',\n",
              " \"What is the definition of 'eco-friendly'?\",\n",
              " \"what is the definition of the term 'ululate'\",\n",
              " 'What does \"resilience\" mean in the context of mental health?',\n",
              " 'can you give an example of existentialism in practice?',\n",
              " 'What is the meaning of the word \"lux\"?',\n",
              " 'Define the term \"sustainability\" and its significance in today\\'s world.',\n",
              " 'How would you define \"ataraxy\"?',\n",
              " 'I require assistance in configuring direct deposit for my wages.',\n",
              " 'Can someone please guide me through the process of setting up direct deposit for my paycheck so it can be deposited into my Bank of America account?',\n",
              " 'I want to arrange direct deposit for my Chase checking account.',\n",
              " 'Can you provide detailed instructions on how to set up direct deposit',\n",
              " 'Kindly guide me through the steps involved in establishing direct deposit for my child support payments.',\n",
              " \"Can you tell me the best way to set up direct deposit for my paycheck? I want to make sure it's done correctly.\",\n",
              " 'Can you walk me through the steps to set up direct deposit for my paychecks?',\n",
              " \"Can you guide me through the process of setting up direct deposit for my workers' compensation payment?\",\n",
              " 'What are the potential drawbacks of using direct deposit for my paychecks?',\n",
              " \"I'd love to arrange a direct deposit for my salary so it hits my bank account immediately.\",\n",
              " \"I'm having trouble remembering when my paycheck is due, but I know I want to set up direct deposit to avoid missing it. Can you remind me?\",\n",
              " \"I'm considering switching to direct deposit for my paycheck. Can you give me an overview of the process and any potential advantages?\",\n",
              " 'What steps must I take to set up direct deposit for my USAA account?',\n",
              " 'I am interested in learning how to set up direct deposit for my investment dividends.',\n",
              " 'Can you please guide me through the process of setting up direct deposit for my paychecks so that I can enjoy the benefits of having my payments deposited directly into my account',\n",
              " 'could you please provide instructions on how to reach the nearest metro station?',\n",
              " 'show me how to get to the airport by train.',\n",
              " 'give me directions to the nearest police station',\n",
              " 'can you help me find the way to the nearest gas station',\n",
              " 'Do you have any recommendations for getting around Manhattan without a car?',\n",
              " 'How far is it from here to the zoo by bike?',\n",
              " 'How do I get to Times Square from my current location?',\n",
              " 'Can you give me directions to the nearest grocery store?',\n",
              " \"I'm trying to find the address of the nearest police station.\",\n",
              " 'How do I get to the nearest shopping mall?',\n",
              " 'Could you please guide me to the closest movie theater?',\n",
              " 'How do I get to the city center from my hotel?',\n",
              " 'Can you give me directions to the Metropolitan Museum of Art?',\n",
              " 'Can you tell me how to get to the nearest hospital?',\n",
              " \"What's the best way to get to Times Square from JFK airport?\",\n",
              " \"how far is it to the Golden Gate Bridge from Fisherman's Wharf?\",\n",
              " 'How long does it take to fly from Tokyo to Sydney',\n",
              " 'How far is it to the nearest ski resort?',\n",
              " 'how long will it take to walk across the desert?',\n",
              " 'how long will it take me to walk to the nearest shopping mall?',\n",
              " 'how long will it take me to run to the store?',\n",
              " 'how long will it take me to swim to the other side of the lake?',\n",
              " 'how many kilometers away is the nearest gas station from here?',\n",
              " 'how far is it from san francisco to las vegas by plane?',\n",
              " 'how far is it to the nearest hospital from my current address?',\n",
              " 'how far is it to the next city?',\n",
              " 'What is the distance from London to Paris by train?',\n",
              " 'how long will it take me to swim to the other side of the lake?',\n",
              " 'how long does it take to travel from dubai to mumbai by flight',\n",
              " 'how far is it from Sydney to melbourne and how long would it take me to drive there',\n",
              " 'Which pet do you find the most affectionate?',\n",
              " 'how often do you feed your pets?',\n",
              " 'Do you have many kinds of pets at your home?',\n",
              " 'I wonder if you have any adorable little puppies at home!',\n",
              " \"what breed of dog do you have? It's so cute!\",\n",
              " 'I bet you have a lovely furry friend at home!',\n",
              " 'How many paws do you have under your roof?',\n",
              " 'Are there any scaly or feathered companions in your household?',\n",
              " \"I'd love to know more about your pets.\",\n",
              " 'Are there any little critters that brighten up your day?',\n",
              " 'How many tails wag when you come home?',\n",
              " 'tell me more about your fur babies!',\n",
              " 'How many pets do you have in total?',\n",
              " 'how many pets do you have and what are their names?',\n",
              " 'can you share some tips on how to train your pets?',\n",
              " 'How does the exchange rate of Euros to US Dollars fluctuate over time?',\n",
              " 'convert 5000 japanese yen into us dollars.',\n",
              " \"what's the exchange rate between australian dollars and indian rupees?\",\n",
              " \"what's the exchange rate for swiss francs to euros?\",\n",
              " 'how much is 1000 swiss francs worth in us dollars?',\n",
              " 'how many Indian rupees can I exchange for 100 BRL?',\n",
              " 'how many Canadian dollars can i exchange for 100 JPY?',\n",
              " 'how much is 1000 dollars worth in euros?',\n",
              " \"what's the current exchange rate of new zealand dollars to australian dollars?\",\n",
              " 'how much is 500 pounds in canadian dollars?',\n",
              " 'what is the value of 1 euro against the us dollar?',\n",
              " \"what's the exchange rate between danish kroner and norwegian kroner\",\n",
              " 'how much is 1000 singapore dollars in us dollars',\n",
              " 'how many Singapore Dollars can I exchange for 500 USD',\n",
              " 'what is the exchange rate for australian dollar to us dollar?',\n",
              " 'Can you confirm whether my credit card has been extended beyond its original expiration date?',\n",
              " \"How far in advance can I renew my driver's license?\",\n",
              " \"Can I renew my driver's license online?\",\n",
              " 'I want to know when my credit card will expire so I can avoid any inconvenience caused by its expiration',\n",
              " 'How long does it take for a new credit card to arrive after I request an expedited replacement?',\n",
              " 'Is there an extension for my passport?',\n",
              " 'I need to know when my credit card will expire so I can make travel arrangements.',\n",
              " 'How far in advance should I renew my credit card?',\n",
              " \"what happens if i don't renew my library book before its due date?\",\n",
              " 'how long can i continue using my old phone before it becomes obsolete?',\n",
              " 'do i need to update my software before the expiration date?',\n",
              " 'Can you please inform me about the expiration date of my Bank of America Core Visa credit card',\n",
              " 'Can you tell me when my debit card is due to expire?',\n",
              " 'When does my mastercard expire?',\n",
              " 'Tell me when my Discover card will reach its expiration date.',\n",
              " \"I've been looking high and low for my phone without any luck - Can you lend a hand?\",\n",
              " \"Where did I put my phone? It's nowhere to be found!\",\n",
              " \"Ugh, I can't believe I misplaced my phone again. Any ideas on how to find it?\",\n",
              " 'Do you know where I left my phone?',\n",
              " 'I have searched everywhere but still cannot find my phone.',\n",
              " 'Have you seen my smartphone anywhere?',\n",
              " \"I'm having trouble finding my phone - Can you assist me in locating it?\",\n",
              " \"I'm having trouble discovering my phone; would you be able to help?\",\n",
              " 'Have you seen my phone anywhere?',\n",
              " 'Can you assist me in locating my phone?',\n",
              " 'Have you seen my phone anywhere recently?',\n",
              " 'I think I left my phone at home - Can you go get it for me?',\n",
              " 'Do you know where I might have left my phone?',\n",
              " 'I think I left my phone at home, do you know how to get there?',\n",
              " \"I'm having trouble locating my phone. Can someone please assist me?\",\n",
              " \"What's the estimated arrival time of my flight from JFK to LAX?\",\n",
              " 'I am curious about the status of my flight; kindly keep me updated.',\n",
              " 'I would appreciate it if you could provide me with the current flight status of my upcoming trip.',\n",
              " 'Can you kindly provide me with the latest update on my flight?',\n",
              " 'could you please tell me when my flight is expected to arrive',\n",
              " 'Please tell me when my flight is scheduled to land so I can make arrangements for pickup.',\n",
              " 'can you please update me on the arrival time of my flight?',\n",
              " 'Can you give me an update on the status of my flight via email or text message?',\n",
              " 'how much longer till my flight departs?',\n",
              " 'i need to know the exact departure time of my flight.',\n",
              " 'Can you please inform me about the current status of my American Airlines flight?',\n",
              " 'What is the ETA of my upcoming flight?',\n",
              " 'Kindly provide me with the most up-to-date information regarding my flight status.',\n",
              " 'Please let me know if there are any changes to the flight schedule.',\n",
              " \"Can you provide me with an update on my flight's progress?\",\n",
              " 'With great power comes the responsibility to flip a coin wisely.',\n",
              " \"Let's take turns flipping coins until one of us wins; it's going to be a blast\",\n",
              " \"Let's conduct a coin toss to determine the winner of this game.\",\n",
              " 'flip this bitcoin.',\n",
              " 'I suggest we flip a coin to choose between these two delicious-looking desserts.',\n",
              " 'Flipping a coin can be a fair and impartial way to make decisions when there are conflicting opinions',\n",
              " 'Flipping a coin can be a great way to simplify complex choices.',\n",
              " \"let's see what luck has in store for us.\",\n",
              " 'Flipping coins has always been a great way to add some excitement to any boring task at hand.',\n",
              " \"let's make this decision easy with a coin toss.\",\n",
              " 'Flip a coin with a magical property, I win if it lands on tails',\n",
              " 'The anticipation of the coin flip adds an extra layer of excitement to this moment.',\n",
              " \"It's time to find out which side the coin will land on!\",\n",
              " \"Whether it's for a serious decision or just for fun, flipping a coin is always an entertaining option\",\n",
              " 'could you please flip a coin for us to determine the winner of this contest?',\n",
              " 'how long does milk last in the fridge?',\n",
              " 'how long after opening can you still consume yogurt?',\n",
              " 'how long does milk last in the fridge if left unopened',\n",
              " 'how long can you keep opened jars of pickles in the fridge',\n",
              " 'how long does ground beef last in the fridge when stored properly?',\n",
              " 'how long does ground turkey last in the fridge if not frozen?',\n",
              " 'Can you tell me how long the opened jar of jam will last in the pantry before it goes bad?',\n",
              " 'how long does a bag of frozen vegetables last in the freezer?',\n",
              " 'how long does a container of yogurt last in the fridge?',\n",
              " 'How long can I keep the salmon in the freezer before it goes bad?',\n",
              " 'Is it okay to eat the pizza that has been in the fridge for two days?',\n",
              " \"Can I still consume the leftovers from last night's dinner?\",\n",
              " \"I'm not sure if I should eat the yogurt that's been in my bag for a week, do you think it's still good?\",\n",
              " \"I'm concerned that the fruit I purchased at the market last weekend might have gone bad, how can I tell if it's still safe to eat?\",\n",
              " 'How long can I store the soup in the fridge before it spoils?',\n",
              " 'Kindly put a block on my savings account to prevent any unauthorized activity.',\n",
              " 'I need you to immediately stop all transactions on my account due to a security breach.',\n",
              " 'I want to temporarily halt any future processing on my business account.',\n",
              " 'Could you please put a temporary hold on my checking account?',\n",
              " 'I need you to temporarily lock my account due to recent fraudulent activities.',\n",
              " 'Could you please freeze my account for a short period of time to ensure that my assets are protected during this challenging economic climate',\n",
              " 'I require your assistance in putting a temporary freeze on my retirement account.',\n",
              " 'I need you to immediately suspend all activity on my credit card account until I give you explicit permission to continue.',\n",
              " 'Kindly place a temporary lock on my account to prevent any unauthorized transactions from taking place.',\n",
              " 'Could you please freeze my account until further notice to avoid any potential fraudulent activities?',\n",
              " 'Kindly put a hold on my checking account until further notice.',\n",
              " 'Could you kindly notify my bank to put a stop on my account?',\n",
              " 'I would like to request that my account be temporarily locked to prevent any further transactions.',\n",
              " 'I want to ensure that no one can access my account without my permission, so I kindly ask that it be frozen.',\n",
              " 'I would appreciate it if you could temporarily halt all transactions on my bank account until further notice.',\n",
              " 'Did you know that the shortest war in history was between Britain and Zanzibar on August 27, 1896, and lasted only 38 minutes?',\n",
              " 'did you know that the Great Wall of China is visible from space',\n",
              " 'Interesting tidbit: The shortest war in history was between Britain and Zanzibar on August 27, 1896, and lasted only 38 minutes. Zanzibar surrendered after just 12 minutes of fighting, making it the quickest war ever recorded.',\n",
              " 'Trivia time! Did you know that cats have over 2 million whiskers?',\n",
              " 'Did you know that the Great Barrier Reef is home to over 1,500 species of fish? Tell me some more interesting trivia about marine life',\n",
              " \"Here's something fascinating – did you know that the longest recorded flight of a chicken is 13 seconds? Yep, that's right – 13 whole seconds!\",\n",
              " 'Did you know that the Great Wall of China is visible from space? It stretches for over 4,000 miles',\n",
              " 'did you know that the shortest war in history was between Britain and Zanzibar on August 27, 1896?',\n",
              " 'elephants have four molars that grow throughout their lifetime.',\n",
              " 'The highest mountain in the solar system is Olympus Mons on Mars, which is around three times the height of Mount Everest!',\n",
              " 'Did you know that there\\'s a species of jellyfish that\\'s immortal? The Turritopsis dohrnii, also known as the \"immortal jellyfish,\" can transform its body into a younger state through a process called transdifferentiation.',\n",
              " \"Who knew? The world's largest living organism is a fungus called Armillaria ostoyae, which covers over 2,200 acres in Oregon!\",\n",
              " 'The longest word in the English language, according to the Oxford English Dictionary, is pneumonoultramicroscopicsilicovolcanoconiosis, which refers to a lung disease caused by inhaling very fine silica particles.',\n",
              " 'Interesting tidbit: The longest word in English without any repeated letters is \"pneumonoultramicroscopicsilicovolcanoconiosis,\" which refers to a lung disease caused by inhaling very fine silica particles.',\n",
              " 'did you know that elephants are social animals and live in large family groups?',\n",
              " 'Is my gas tank over half full?',\n",
              " 'Can I make it home from work without stopping for gas?',\n",
              " 'Can you give me an estimate of how much gas I have left?',\n",
              " \"How much gas is left in my car's tank?\",\n",
              " 'Do I have enough fuel to make it to Tampa without stopping?',\n",
              " 'Can you tell me how much gas I have left in my tank?',\n",
              " 'How much gas does my car take to drive from New York to Los Angeles?',\n",
              " 'Where is my gas level right now?',\n",
              " 'how far can i go on one gallon of gas?',\n",
              " 'Can you tell me if there are any gas stations along route 66 that sell premium gas?',\n",
              " 'How much gas do I have left in my vehicle?',\n",
              " 'Is my gas tank full?',\n",
              " 'how much gas does this car hold?',\n",
              " 'What is the current fuel level in my vehicle?',\n",
              " 'I need to fill up my gas tank before heading out on this road trip.',\n",
              " 'Does this take regular unleaded?',\n",
              " 'Is there a specific type of gas that my car requires?',\n",
              " 'What kind of gas does this car need?',\n",
              " 'Can you tell me the recommended gas type for my car model?',\n",
              " 'Tell me what type of fuel i need to use for this car.',\n",
              " 'Which type of gas do I need to put in my car?',\n",
              " 'How much gas does this car hold?',\n",
              " 'What type of fuel does my car require?',\n",
              " \"Does the type of gas affect my car's performance\",\n",
              " 'Which gas type is most commonly used in my area?',\n",
              " 'Is there a specific type of gas that will give me better mileage?',\n",
              " 'Is any type of gas okay on this car?',\n",
              " 'What kind of fuel do I need for my motorcycle?',\n",
              " \"How often should I check my car's gas level?\",\n",
              " 'What happens if I use the wrong type of gas in my car?',\n",
              " 'Take care!',\n",
              " 'Nice speaking with you!',\n",
              " 'Talk to you soon!',\n",
              " 'have a great day!',\n",
              " 'Goodnight, my dear friend; may your dreams be sweet and your waking moments filled with joy.',\n",
              " 'It was lovely chatting with you!',\n",
              " 'I enjoyed our conversation!',\n",
              " 'so long!',\n",
              " 'until next time, stay awesome!',\n",
              " 'ciao!',\n",
              " 'Take care and stay in touch!',\n",
              " 'until next time.',\n",
              " 'Until we meet again; farewell!',\n",
              " 'It was good catching up with you!',\n",
              " 'Until we meet again, take care of yourself and keep in touch.',\n",
              " \"Whats up? It's so good to see you!\",\n",
              " \"Hello! It's so great to see you again! How have you been keeping\",\n",
              " 'Good day to you! How have you been?',\n",
              " 'Good afternoon! Long time no see!',\n",
              " 'hey there! How are you today?',\n",
              " \"hallo! how've you been doing?\",\n",
              " 'hey there!',\n",
              " \"What's new with you?\",\n",
              " 'good afternoon! How was your weekend?',\n",
              " 'Good morning! Hope your day is going great so far!',\n",
              " 'Whats up, buddy? Long time no catch up!',\n",
              " 'Hey there! How was your weekend',\n",
              " \"Hey there! How's everything going\",\n",
              " \"Salutations! It's so good to see you again!\",\n",
              " 'Long time no see! How have you been?',\n",
              " \"how many people are waiting at Chili's?\",\n",
              " 'how long will I have to wait for a table at Red Robin?',\n",
              " 'How long will I have to wait in line to purchase tickets at the box office?',\n",
              " 'How crowded does the mall get during the holiday season?',\n",
              " 'how busy does the bar area get at happy hour at the local sports pub?',\n",
              " 'how long will the line be at starbucks if i arrive at 9 am',\n",
              " 'how many customers does the coffee shop typically serve during rush hour?',\n",
              " 'is there a wait time to get into the cheesecake factory?',\n",
              " 'Will there be a lot of foot traffic outside the store during the holiday season?',\n",
              " 'how many customers are there at buffalo wild wings?',\n",
              " 'how long will it take to get a table for two at the bistro?',\n",
              " \"How long will it take to get seated at Chili's if I arrive at 4:45 pm?\",\n",
              " 'How congested is the area around Starbucks during rush hour?',\n",
              " 'how long will it take to get a table at the new sushi spot?',\n",
              " 'how many customers are shopping in the store right now',\n",
              " 'how many solar cycles have you experienced on this planet?',\n",
              " 'please share with me the precise moment of your arrival in this reality?',\n",
              " 'When did you originate?',\n",
              " 'How many years have you been around?',\n",
              " 'Tell me your date of birth, AI!',\n",
              " 'how long have you existed in this realm?',\n",
              " \"What's your age please?\",\n",
              " 'What is the age of the AI?',\n",
              " 'How old will you be when you retire?',\n",
              " 'when did you first appear on this planet, ai',\n",
              " 'how old do you think you will be next year, ai?',\n",
              " 'How old do you think I am, AI?',\n",
              " 'For how long have you existed?',\n",
              " 'what year did you enter this cosmos?',\n",
              " 'How old is Al?',\n",
              " 'Steps to take to achieve a high credit score.',\n",
              " 'i want to avoid hurting my credit score, what are some common mistakes to avoid?',\n",
              " 'how can I increase my credit score?',\n",
              " 'How long does it take to see improvements in my credit score after making changes?',\n",
              " 'Can I increase my credit score by paying off debt?',\n",
              " 'Will late payments hurt my credit?',\n",
              " 'How important is it to check my credit report regularly to ensure my credit score remains high',\n",
              " 'how can I increase my credit score without affecting my current financial obligations?',\n",
              " 'What are the best strategies for improving my credit score?',\n",
              " 'how can I avoid falling into debt and improving my credit score?',\n",
              " 'Can I use credit monitoring services to help improve my credit score?',\n",
              " 'How does the credit score get hurt?',\n",
              " 'How can I leverage technology to monitor and manage my credit score more effectively?',\n",
              " 'Can I repair my damaged credit',\n",
              " 'Can you suggest some effective ways to improve my credit score?',\n",
              " 'How much have I earned so far this quarter?',\n",
              " 'What is my annual income?',\n",
              " 'Can you tell me how much I earned last year from my main source of income?',\n",
              " 'How much was deducted from my salary for taxes last month?',\n",
              " 'I want to know how much I will be earning after my next raise',\n",
              " 'Kindly provide me with my monthly income details.',\n",
              " 'how much taxes do I pay out of my income each year?',\n",
              " 'Can you tell me how much I made last year?',\n",
              " 'How much do I make biweekly from my full-time job?',\n",
              " 'Can you tell me my hourly wage?',\n",
              " 'What is my average daily income?',\n",
              " 'How much does my company pay me annually?',\n",
              " 'Can you give me an estimate of my annual salary?',\n",
              " 'Can you please share my income statement for the past quarter?',\n",
              " 'I would appreciate it if you could give me an update on my quarterly profits.',\n",
              " \"Can I use almond milk instead of cow's milk in my recipe?\",\n",
              " 'can i replace almond milk with coconut milk?',\n",
              " 'can i substitute eggplant for zucchini in a vegetarian dish?',\n",
              " 'Can I use avocado instead of mayonnaise in this recipe?',\n",
              " 'can i use avocado instead of mashed banana?',\n",
              " 'can i use olive oil instead of avocado oil in a sauce recipe?',\n",
              " 'Is there a suitable alternative to cornstarch in this sauce recipe',\n",
              " 'Can I substitute mashed banana for applesauce in my muffin batter?',\n",
              " 'Can I replace Greek yogurt with regular yogurt in this recipe?',\n",
              " 'can i use green tea instead of black tea in a baked good recipe?',\n",
              " 'can i substitute chocolate chips for peanut butter chips in a recipe?',\n",
              " 'Can I use avocado oil instead of olive oil in cooking?',\n",
              " 'would you suggest using quinoa flour instead of wheat flour in a recipe?',\n",
              " 'can i replace ginger with garlic in a stir-fry recipe?',\n",
              " 'can i use couscous instead of quinoa in a salad recipe?',\n",
              " 'what ingredients are necessary for making homemade bread?',\n",
              " 'what is the list of ingredients for making homemade ice cream?',\n",
              " 'Can you please list the ingredients needed to make a delicious breakfast burrito?',\n",
              " \"I'm making pad thai, what ingredients do I need?\",\n",
              " 'What do I need to make a classic paella?',\n",
              " 'what do i need to get to bake a apple pie?',\n",
              " 'Can you walk me through each step of the recipe and highlight the specific ingredients used in each one?',\n",
              " 'What do I need to make a hearty beef stew?',\n",
              " 'How many ingredients are needed to make a basic vegetable soup?',\n",
              " 'What ingredients are in a typical breakfast burrito',\n",
              " 'what foods do i need to buy to prepare a mediterranean salad?',\n",
              " 'what ingredients are required to prepare caesar salad?',\n",
              " 'what is the list of ingredients for making homemade hummus?',\n",
              " 'What are the ingredients in a classic beef Wellington dish?',\n",
              " 'what are the essential ingredients for making vegan mac and cheese?',\n",
              " 'How much will my premiums be each month?',\n",
              " \"I'd love to learn more about my coverage options.\",\n",
              " 'Could you explain the specific health benefits covered under my insurance plan?',\n",
              " 'Are there any additional riders or add-ons available for my existing insurance policy?',\n",
              " 'What is the maximum out-of-pocket expense for my policy?',\n",
              " 'Can I see my car insurance details?',\n",
              " 'Are there any additional fees or charges associated with my insurance policy?',\n",
              " 'How does my health insurance work?',\n",
              " 'How does my health insurance work?',\n",
              " 'Can I get travel insurance if I already have health insurance?',\n",
              " 'Can you tell me about my current health insurance policy?',\n",
              " 'Kindly provide information regarding my health insurance premiums',\n",
              " 'Is my policy transferable if I move to another state?',\n",
              " 'Can you help me find affordable insurance options',\n",
              " 'How does my homeowners insurance policy protect my property from natural disasters?',\n",
              " 'How can I upgrade my current insurance policy?',\n",
              " \"I'm considering switching to a different type of insurance (e.g., from auto to homeowners or renters insurance).\",\n",
              " 'I would like to switch to a more comprehensive insurance plan that provides additional coverage.',\n",
              " 'How do I go about updating my insurance policy?',\n",
              " \"I'm looking to switch to a new auto insurance provider.\",\n",
              " 'I am considering changing my insurance plan to one that provides more flexible coverage options.',\n",
              " 'I would like to upgrade my current insurance plan to one that offers more comprehensive coverage.',\n",
              " 'I want to switch to a different auto insurance provider.',\n",
              " 'I would like to downgrade my insurance plan to save money on premiums while still maintaining adequate coverage.',\n",
              " \"I'm interested in learning more about insurance plans available in the market.\",\n",
              " 'Can you help me compare different auto insurance policies?',\n",
              " 'How do I go about switching to a new health insurance provider?',\n",
              " 'i would like to purchase additional liability insurance.',\n",
              " 'I need to adjust my insurance coverage to match my changing needs.',\n",
              " 'I would like to switch to a different health insurance plan that offers better coverage for mental health services.',\n",
              " 'which of your accounts has the highest interest rate available?',\n",
              " 'Is it possible to negotiate a lower interest rate on my car loan?',\n",
              " 'Can you explain why the interest rate on my student loans is so high?',\n",
              " 'when will my interest rate be adjusted next?',\n",
              " 'please tell me what i can expect my us bank interest rate to be.',\n",
              " 'Is it worth considering a personal loan with a fixed interest rate instead of a variable rate',\n",
              " 'can you tell me the interest rate on my cash advance?',\n",
              " 'Are there any online tools that can help me track my interest rate over time?',\n",
              " \"How can I find out if I'm eligible for a lower interest rate on my mortgage?\",\n",
              " 'How do I find out my interest rate for my credit card?',\n",
              " 'can you help me compare interest rates among different banks?',\n",
              " \"What's my interest rate?\",\n",
              " 'I want to know the interest rate on my Bank of America CD account.',\n",
              " \"i need to calculate my business loan's total cost including interest rates and fees.\",\n",
              " 'i want to know my student loan interest rate so i can manage my debt effectively',\n",
              " 'Can you explain the international transaction fees associated with my Citi card?',\n",
              " 'Can you tell me about the international transaction fees associated with my American Express card?',\n",
              " 'do i have to pay any additional fees when using my card in mexico?',\n",
              " 'Does my discover card have any international transaction fees when used in Australia?',\n",
              " 'Does my American Express card have any international transaction fees when used in India?',\n",
              " 'will i be charged any fees for using my card in china?',\n",
              " 'are there any additional costs for using my hsbc card in new zealand?',\n",
              " 'Can you explain the fees associated with using my card in germany?',\n",
              " 'Can you explain the fees associated with using my card in indonesia?',\n",
              " 'How do international transaction fees work on my Wells Fargo card?',\n",
              " 'How much will I be charged in international transaction fees if I use my Bank of America card in Brazil?',\n",
              " 'how many pounds will i be charged for using my barclays card in london?',\n",
              " 'How much will I be charged for using my card in austria?',\n",
              " 'What are the fees for making purchases with my card in australia?',\n",
              " 'How much do I have to pay in fees to use my card in new zealand?',\n",
              " 'would i need a travel visa to go to japan?',\n",
              " 'do i need a visa to enter the united kingdom if i am from the us?',\n",
              " 'how much does a turkish visa cost?',\n",
              " 'I am planning to move to Germany permanently and I want to know if I need a visa.',\n",
              " \"I'm considering a vacation in South Africa, but I'm not sure if I need a visa.\",\n",
              " 'how long does it take to process an international visa application for a trip to italy?',\n",
              " 'What are the requirements for obtaining a tourist visa for China?',\n",
              " 'how long does it take to process an international visa application?',\n",
              " 'do i need a visa to visit italy?',\n",
              " 'I am considering studying abroad in Scotland; do I need a student visa?',\n",
              " 'How early should I apply for a visa to travel to Brazil',\n",
              " 'does canada require an international visa?',\n",
              " \"Can I use my passport to enter the UK if I don't have a visa?\",\n",
              " 'do i need a visa to attend a wedding in south africa',\n",
              " 'Can I use my passport to enter Mexico without a visa?',\n",
              " 'What are some tips for safely jump-starting a car?',\n",
              " \"I'm having trouble getting my car started; can someone walk me through the process of jump-starting it?\",\n",
              " 'Is there anything I can do to revive my dead car battery?',\n",
              " 'How long does it typically take to jump-start a car with a dead battery?',\n",
              " 'How long does it take to fully charge a dead car battery after jump starting',\n",
              " 'How do I know if my car needs a jump start?',\n",
              " 'How long does it take to jump start a car?',\n",
              " 'Can I jump-start a car without jumper cables?',\n",
              " \"I want to jump start my car because I'm not sure if the battery is fully charged, and I don't want to risk getting stranded on the side of the road\",\n",
              " 'Are there any precautions I should take when jump-starting a car to avoid damaging either vehicle or electrical system?',\n",
              " 'Can you provide me with step-by-step instructions on how to jump-start a car',\n",
              " 'I was worried about getting stuck on the side of the road, but thankfully I had everything I needed to jump-start my car.',\n",
              " 'How long does it take to jump start a car?',\n",
              " 'I need help jump-starting my car; where do I go for assistance?',\n",
              " 'Can someone walk me through the process of jump starting a vehicle?',\n",
              " 'I believe it was last week when I changed the oil in my car.',\n",
              " 'How long does it take to complete a routine maintenance check on my vehicle?',\n",
              " \"Last month, I think, I had my car's battery replaced. Do you know when the last maintenance was done on it?\",\n",
              " 'can you inform me when my fridge last underwent routine checkup?',\n",
              " 'can you tell me the exact date of my last oil change?',\n",
              " 'I need to know when my car last underwent any repairs.',\n",
              " 'When was my car last inspected?',\n",
              " 'I believe it was last month when I got my oil changed.',\n",
              " 'Is it normal for my car to make strange noises after a recent maintenance',\n",
              " 'how long has it been since my car was last detailed?',\n",
              " \"I can't seem to recall when I last had my car's brakes inspected.\",\n",
              " 'how long ago did i last have my brakes inspected?',\n",
              " 'Can you please remind me when I last took my car in for an inspection?',\n",
              " 'What day did I last take my car in for a check-up?',\n",
              " \"Do you know when I last had my tires rotated? I can't seem to remember.\",\n",
              " \"I'm currently sitting in the airport because my luggage didn't arrive with me, and I don't know where it is. Could someone direct me toward the appropriate authorities?\",\n",
              " \"As I waited at the baggage claim area, I couldn't help but feel anxious about the possibility of never seeing my luggage again.\",\n",
              " \"I've been calling the airline nonstop, but they haven't been able to locate my missing luggage yet, leaving me feeling frustrated and helpless.\",\n",
              " \"i've tried contacting customer service but they haven't been much help finding my missing luggage.\",\n",
              " \"I've been searching everywhere for my bag, but it seems to have vanished into thin air.\",\n",
              " \"I've searched everywhere but cannot find my luggage, could you please assist me in locating it?\",\n",
              " 'My checked bag never arrived at my destination after flying with British Airways.',\n",
              " \"i need to get in touch with united airline's customer service because my suitcase didn't show up after my flight from denver.\",\n",
              " 'i checked in my luggage on delta flight dl123 but it never arrived at my destination.',\n",
              " \"I'm concerned because my luggage hasn't turned up after our flight, could you please investigate and let me know if it's been found?\",\n",
              " 'My bag never showed up after my recent trip and I need assistance finding it.',\n",
              " 'after checking in,i realized that one of my bags was missing.',\n",
              " \"i'm starting to worry that my carry-on might have been left behind in new york.\",\n",
              " \"i'm trying to stay positive but it's hard when i don't know if my luggage will ever turn up.\",\n",
              " \"My bag never showed up on the carousel, and now I'm stuck here without any clothes.\",\n",
              " 'i need to give mike a ring.',\n",
              " 'Could you please call back later today at 3 pm?',\n",
              " 'I require immediate assistance from Jack, so please call him now',\n",
              " 'I will soon be making a call to Drew.',\n",
              " 'i am eager to speak with samantha.',\n",
              " 'X is the person I want to contact immediately.',\n",
              " \"Ring Steven's number, it's urgent.\",\n",
              " 'I will shortly be phoning Sarah',\n",
              " 'Can you call me back later?',\n",
              " 'I need you to contact Michael at his home right away.',\n",
              " \"I'll try calling him again tomorrow if he doesn't answer.\",\n",
              " 'give lily a ring on her mobile.',\n",
              " 'Can you please call my mother to wish her a happy birthday',\n",
              " 'Would you mind giving me a call back later?',\n",
              " 'i want to talk to ben.',\n",
              " 'Maybe we will find a better solution next week.',\n",
              " 'It depends on various factors, maybe some things are just beyond our control.',\n",
              " 'perhaps it will happen someday.',\n",
              " \"I'm not sure if I can give you an accurate answer\",\n",
              " \"That's a good question... maybe we should discuss it in our next meeting?\",\n",
              " \"It's difficult to say for sure.\",\n",
              " 'She might be late, maybe she got stuck in traffic.',\n",
              " \"I'm not sure if it will rain tomorrow, but the forecast says there is a chance.\",\n",
              " 'I have no idea what will happen.',\n",
              " 'It is possible but not guaranteed, maybe we will get lucky this time.',\n",
              " ...]"
            ]
          },
          "metadata": {},
          "execution_count": 11
        }
      ],
      "source": [
        "utt_list=[]\n",
        "for data_1 in data:\n",
        "    utt=data_1['utt']\n",
        "    utt_list.append(utt)\n",
        "utt_list"
      ]
    },
    {
      "cell_type": "code",
      "execution_count": null,
      "metadata": {
        "colab": {
          "base_uri": "https://localhost:8080/"
        },
        "id": "fXeGT9lLgmgR",
        "outputId": "cc573b9d-cef0-4eab-a8b0-c297fd009546"
      },
      "outputs": [
        {
          "output_type": "stream",
          "name": "stdout",
          "text": [
            "{'indoml_id': 'surprise|11109', 'intent': 'accept reservations'}\n"
          ]
        }
      ],
      "source": [
        "\n",
        "print(solutions[0]) # Solutions of the surpise dataset having id and intent for the previous teerances"
      ]
    },
    {
      "cell_type": "code",
      "execution_count": null,
      "metadata": {
        "colab": {
          "base_uri": "https://localhost:8080/"
        },
        "id": "3aPEyBAcgpLD",
        "outputId": "627b7533-a03c-4920-d2ac-af4c02c2389b"
      },
      "outputs": [
        {
          "output_type": "stream",
          "name": "stdout",
          "text": [
            "Number of classes\n",
            "150\n"
          ]
        }
      ],
      "source": [
        "# Create a dictionary to map indoml_id to intents\n",
        "intent_map = {item['indoml_id']: item['intent'] for item in solutions}\n",
        "\n",
        "# Split data into train and test sets (2:1) stratified by intent\n",
        "indoml_ids = [item['indoml_id'] for item in data]\n",
        "intents = [intent_map[indoml_id] for indoml_id in indoml_ids]\n",
        "\"\"\"utterances(features) for the dataset\"\"\"\n",
        "utt = [item['utt'] for item in data]\n",
        "\n",
        "num_classes = len(set(intents))\n",
        "print(\"Number of classes\")\n",
        "print(num_classes)\n",
        "\n",
        "\"\"\"Splitting the dataset into train and test set\"\"\"\n",
        "train_data, test_data, train_labels, test_labels = train_test_split(\n",
        "    utt, intents, test_size=0.07, random_state=42, stratify=intents\n",
        ")"
      ]
    },
    {
      "cell_type": "code",
      "execution_count": null,
      "metadata": {
        "colab": {
          "base_uri": "https://localhost:8080/"
        },
        "id": "pZS7LGE2eCyq",
        "outputId": "51ea1dda-0c8f-493e-ac22-d63ef36aed57"
      },
      "outputs": [
        {
          "output_type": "execute_result",
          "data": {
            "text/plain": [
              "(['w2', 'car rental', 'income', 'change speed', 'rewards balance'], 2090)"
            ]
          },
          "metadata": {},
          "execution_count": 14
        }
      ],
      "source": [
        "train_labels[0:5], len(train_labels) # these are basically our intents corrosponding to the utterances for trainin g data(5%) of the data"
      ]
    },
    {
      "cell_type": "code",
      "execution_count": null,
      "metadata": {
        "colab": {
          "base_uri": "https://localhost:8080/"
        },
        "id": "Y6zHJm-4tbiO",
        "outputId": "a76a6658-675e-4f20-a2fd-55f48ff31750"
      },
      "outputs": [
        {
          "output_type": "execute_result",
          "data": {
            "text/plain": [
              "(['travel alert',\n",
              "  'timezone',\n",
              "  'shopping list update',\n",
              "  'definition',\n",
              "  'spelling'],\n",
              " 158)"
            ]
          },
          "metadata": {},
          "execution_count": 15
        }
      ],
      "source": [
        "test_labels[0:5], len(test_labels) # these are basically our intents corrosponding to the utterances for testing data(5%) of the data"
      ]
    },
    {
      "cell_type": "markdown",
      "metadata": {
        "id": "I68c4JKcePAl"
      },
      "source": [
        "#**label encoding- converting labels to numeric values**"
      ]
    },
    {
      "cell_type": "code",
      "execution_count": null,
      "metadata": {
        "id": "j2z1Uyt7UQjK"
      },
      "outputs": [],
      "source": [
        "labels_list=[]\n",
        "for label in solutions:\n",
        "    labels_list.append(label['intent'])\n",
        "unique_labels_list=[]\n",
        "for x in labels_list:\n",
        "    if x not in unique_labels_list:\n",
        "        unique_labels_list.append(x)\n",
        "# unique_labels_list, len(unique_labels_list)\n",
        "\n",
        "label2id={}\n",
        "id2label={}\n",
        "for i, label in enumerate(unique_labels_list):\n",
        "    label2id[label]=i\n",
        "    id2label[i]=label"
      ]
    },
    {
      "cell_type": "code",
      "execution_count": null,
      "metadata": {
        "colab": {
          "base_uri": "https://localhost:8080/"
        },
        "id": "3cnOG0OCrs2W",
        "outputId": "26d9c381-8524-49bb-c269-dd62e93c586d"
      },
      "outputs": [
        {
          "output_type": "stream",
          "name": "stdout",
          "text": [
            "{'nutrition info', 'min payment', 'schedule maintenance', 'meaning of life', 'current location', 'ingredients list', 'payday', 'greeting', 'rewards balance', 'credit score', 'order status', 'how old are you', 'calendar update', 'calories', 'reset settings', 'improve credit score', 'play music', 'translate', 'account blocked', 'tire pressure', 'card declined', 'cancel reservation', 'plug type', 'sync device', 'directions', 'timezone', 'flip coin', 'next holiday', 'lost luggage', 'who made you', 'pto balance', 'tire change', 'calendar', 'food last', 'pto used', 'smart home', 'car rental', 'routing', 'todo list update', 'uber', 'what is your name', 'maybe', 'freeze account', 'book flight', 'tell joke', 'no', 'accept reservations', 'definition', 'meeting schedule', 'w2', 'interest rate', 'oil change how', 'distance', 'book hotel', 'change language', 'redeem rewards', 'expiration date', 'timer', 'user name', 'rollover 401k', 'cancel', 'replacement card duration', 'order checks', 'goodbye', 'meal suggestion', 'date', 'change speed', 'travel notification', 'order', 'alarm', 'jump start', 'apr', 'international visa', 'shopping list update', 'change ai name', 'yes', 'mpg', 'next song', 'spending history', 'measurement conversion', 'traffic', 'restaurant reviews', 'do you have pets', 'thank you', 'what are your hobbies', 'where are you from', 'transactions', 'update playlist', 'recipe', 'change user name', 'taxes', 'transfer', 'cook time', 'confirm reservation', 'make call', 'pay bill', 'todo list', 'calculator', 'pto request status', 'restaurant suggestion', 'bill balance', 'pin change', 'report lost card', 'shopping list', 'exchange rate', 'fun fact', 'schedule meeting', 'ingredient substitution', 'new card', 'time', 'gas type', 'reminder update', 'report fraud', 'weather', 'flight status', 'share location', 'direct deposit', 'gas', 'how busy', 'income', 'what can i ask you', 'change volume', 'pto request', 'change accent', 'who do you work for', 'insurance', 'carry on', 'insurance change', 'last maintenance', 'travel alert', 'spelling', 'travel suggestion', 'vaccines', 'international fees', 'what song', 'application status', 'bill due', 'reminder', 'credit limit change', 'roll dice', 'balance', 'text', 'restaurant reservation', 'repeat', 'damaged card', 'whisper mode', 'credit limit', 'find phone', 'are you a bot', 'oil change when'}\n"
          ]
        },
        {
          "output_type": "execute_result",
          "data": {
            "text/plain": [
              "150"
            ]
          },
          "metadata": {},
          "execution_count": 21
        }
      ],
      "source": [
        "intents\n",
        "intents_set=set(intents) # basically represent the total no. of disntics intents(labels) in our surprise dataset(150)\n",
        "print(intents_set)\n",
        "len(intents_set)"
      ]
    },
    {
      "cell_type": "code",
      "execution_count": null,
      "metadata": {
        "id": "2mqXIhdv6Bca",
        "outputId": "2bfa5512-73bb-43a5-97b8-ad9b088dc7f7",
        "colab": {
          "base_uri": "https://localhost:8080/"
        }
      },
      "outputs": [
        {
          "output_type": "execute_result",
          "data": {
            "text/plain": [
              "{0: 'accept reservations',\n",
              " 1: 'account blocked',\n",
              " 2: 'alarm',\n",
              " 3: 'application status',\n",
              " 4: 'apr',\n",
              " 5: 'are you a bot',\n",
              " 6: 'balance',\n",
              " 7: 'bill balance',\n",
              " 8: 'bill due',\n",
              " 9: 'book flight',\n",
              " 10: 'book hotel',\n",
              " 11: 'calculator',\n",
              " 12: 'calendar',\n",
              " 13: 'calendar update',\n",
              " 14: 'calories',\n",
              " 15: 'cancel',\n",
              " 16: 'cancel reservation',\n",
              " 17: 'car rental',\n",
              " 18: 'card declined',\n",
              " 19: 'carry on',\n",
              " 20: 'change accent',\n",
              " 21: 'change ai name',\n",
              " 22: 'change language',\n",
              " 23: 'change speed',\n",
              " 24: 'change user name',\n",
              " 25: 'change volume',\n",
              " 26: 'confirm reservation',\n",
              " 27: 'cook time',\n",
              " 28: 'credit limit',\n",
              " 29: 'credit limit change',\n",
              " 30: 'credit score',\n",
              " 31: 'current location',\n",
              " 32: 'damaged card',\n",
              " 33: 'date',\n",
              " 34: 'definition',\n",
              " 35: 'direct deposit',\n",
              " 36: 'directions',\n",
              " 37: 'distance',\n",
              " 38: 'do you have pets',\n",
              " 39: 'exchange rate',\n",
              " 40: 'expiration date',\n",
              " 41: 'find phone',\n",
              " 42: 'flight status',\n",
              " 43: 'flip coin',\n",
              " 44: 'food last',\n",
              " 45: 'freeze account',\n",
              " 46: 'fun fact',\n",
              " 47: 'gas',\n",
              " 48: 'gas type',\n",
              " 49: 'goodbye',\n",
              " 50: 'greeting',\n",
              " 51: 'how busy',\n",
              " 52: 'how old are you',\n",
              " 53: 'improve credit score',\n",
              " 54: 'income',\n",
              " 55: 'ingredient substitution',\n",
              " 56: 'ingredients list',\n",
              " 57: 'insurance',\n",
              " 58: 'insurance change',\n",
              " 59: 'interest rate',\n",
              " 60: 'international fees',\n",
              " 61: 'international visa',\n",
              " 62: 'jump start',\n",
              " 63: 'last maintenance',\n",
              " 64: 'lost luggage',\n",
              " 65: 'make call',\n",
              " 66: 'maybe',\n",
              " 67: 'meal suggestion',\n",
              " 68: 'meaning of life',\n",
              " 69: 'measurement conversion',\n",
              " 70: 'meeting schedule',\n",
              " 71: 'min payment',\n",
              " 72: 'mpg',\n",
              " 73: 'new card',\n",
              " 74: 'next holiday',\n",
              " 75: 'next song',\n",
              " 76: 'no',\n",
              " 77: 'nutrition info',\n",
              " 78: 'oil change how',\n",
              " 79: 'oil change when',\n",
              " 80: 'order',\n",
              " 81: 'order checks',\n",
              " 82: 'order status',\n",
              " 83: 'pay bill',\n",
              " 84: 'payday',\n",
              " 85: 'pin change',\n",
              " 86: 'play music',\n",
              " 87: 'plug type',\n",
              " 88: 'pto balance',\n",
              " 89: 'pto request',\n",
              " 90: 'pto request status',\n",
              " 91: 'pto used',\n",
              " 92: 'recipe',\n",
              " 93: 'redeem rewards',\n",
              " 94: 'reminder',\n",
              " 95: 'reminder update',\n",
              " 96: 'repeat',\n",
              " 97: 'replacement card duration',\n",
              " 98: 'report fraud',\n",
              " 99: 'report lost card',\n",
              " 100: 'reset settings',\n",
              " 101: 'restaurant reservation',\n",
              " 102: 'restaurant reviews',\n",
              " 103: 'restaurant suggestion',\n",
              " 104: 'rewards balance',\n",
              " 105: 'roll dice',\n",
              " 106: 'rollover 401k',\n",
              " 107: 'routing',\n",
              " 108: 'schedule maintenance',\n",
              " 109: 'schedule meeting',\n",
              " 110: 'share location',\n",
              " 111: 'shopping list',\n",
              " 112: 'shopping list update',\n",
              " 113: 'smart home',\n",
              " 114: 'spelling',\n",
              " 115: 'spending history',\n",
              " 116: 'sync device',\n",
              " 117: 'taxes',\n",
              " 118: 'tell joke',\n",
              " 119: 'text',\n",
              " 120: 'thank you',\n",
              " 121: 'time',\n",
              " 122: 'timer',\n",
              " 123: 'timezone',\n",
              " 124: 'tire change',\n",
              " 125: 'tire pressure',\n",
              " 126: 'todo list',\n",
              " 127: 'todo list update',\n",
              " 128: 'traffic',\n",
              " 129: 'transactions',\n",
              " 130: 'transfer',\n",
              " 131: 'translate',\n",
              " 132: 'travel alert',\n",
              " 133: 'travel notification',\n",
              " 134: 'travel suggestion',\n",
              " 135: 'uber',\n",
              " 136: 'update playlist',\n",
              " 137: 'user name',\n",
              " 138: 'vaccines',\n",
              " 139: 'w2',\n",
              " 140: 'weather',\n",
              " 141: 'what are your hobbies',\n",
              " 142: 'what can i ask you',\n",
              " 143: 'what is your name',\n",
              " 144: 'what song',\n",
              " 145: 'where are you from',\n",
              " 146: 'whisper mode',\n",
              " 147: 'who do you work for',\n",
              " 148: 'who made you',\n",
              " 149: 'yes'}"
            ]
          },
          "metadata": {},
          "execution_count": 22
        }
      ],
      "source": [
        "id2label"
      ]
    },
    {
      "cell_type": "code",
      "execution_count": null,
      "metadata": {
        "colab": {
          "base_uri": "https://localhost:8080/"
        },
        "id": "WpY1ayFpelTN",
        "outputId": "537208a8-8cac-4160-e43e-8c7f3b1d71b5"
      },
      "outputs": [
        {
          "output_type": "stream",
          "name": "stdout",
          "text": [
            "[(0, 'accept reservations'), (1, 'account blocked'), (2, 'alarm'), (3, 'application status'), (4, 'apr')]\n",
            "\n",
            "\n",
            "[('accept reservations', 0), ('account blocked', 1), ('alarm', 2), ('application status', 3), ('apr', 4)]\n"
          ]
        }
      ],
      "source": [
        "print(list(id2label.items())[:5])\n",
        "print('\\n')\n",
        "print(list(label2id.items())[:5])\n"
      ]
    },
    {
      "cell_type": "markdown",
      "metadata": {
        "id": "8i1CXkqSe-WU"
      },
      "source": [
        "# **Loading the pretrained intent classification Alexa XLMRoberta model and the tokenizer**"
      ]
    },
    {
      "cell_type": "code",
      "execution_count": null,
      "metadata": {
        "id": "LX7u0NH6grN5"
      },
      "outputs": [],
      "source": [
        "# Define the BERT model and tokenizer\n",
        "# keep `ignore_mismatched_sizes=True` so that the classification layer is randomly initialized\n",
        "from transformers import XLMRobertaTokenizer, XLMRobertaForSequenceClassification\n",
        "model_name=\"ibm/roberta-large-vira-intents\" # by the IBM on 180 labels\n",
        "tokenizer=RobertaTokenizer.from_pretrained(model_name)"
      ]
    },
    {
      "cell_type": "code",
      "execution_count": null,
      "metadata": {
        "colab": {
          "base_uri": "https://localhost:8080/"
        },
        "id": "lj0z8YbFobsN",
        "outputId": "95cc35fd-f4ed-43bf-8f04-eb44cff30bec"
      },
      "outputs": [
        {
          "name": "stderr",
          "output_type": "stream",
          "text": [
            "Some weights of RobertaForSequenceClassification were not initialized from the model checkpoint at roberta-base and are newly initialized: ['classifier.dense.bias', 'classifier.out_proj.weight', 'classifier.out_proj.bias', 'classifier.dense.weight']\n",
            "You should probably TRAIN this model on a down-stream task to be able to use it for predictions and inference.\n"
          ]
        }
      ],
      "source": [
        "# Initialize the model\n",
        "num_classes=150\n",
        "# model = XLMRobertaForSequenceClassification.from_pretrained(model_name, num_labels=num_classes, ignore_mismatched_sizes=True) # ,output_hidden_states=True\n",
        "model = RobertaForSequenceClassification.from_pretrained(model_name, num_labels=num_classes, ignore_mismatched_sizes=True)\n",
        "\"\"\"since model have its own id2label mapping and vice versa so, converting them from our id2label and label2id mapping as defined earlier\"\"\"\n",
        "model.label2id=label2id\n",
        "model.id2label=id2label\n"
      ]
    },
    {
      "cell_type": "code",
      "execution_count": null,
      "metadata": {
        "id": "jbQeC7J9gtpP"
      },
      "outputs": [],
      "source": [
        "# Tokenize the input training data\n",
        "train_encodings = tokenizer(\n",
        "    train_data,\n",
        "    truncation=True,\n",
        "    padding=True,\n",
        "    max_length=64,\n",
        "    return_tensors='pt'    #return type is pytorch tensor\n",
        ")\n",
        "#Tokenizing the input testing data\n",
        "test_encodings = tokenizer(\n",
        "    test_data,\n",
        "    truncation=True,\n",
        "    padding=True,\n",
        "    max_length=64,\n",
        "    return_tensors='pt'\n",
        ")"
      ]
    },
    {
      "cell_type": "code",
      "execution_count": null,
      "metadata": {
        "colab": {
          "base_uri": "https://localhost:8080/"
        },
        "id": "v9v4svwCgv_n",
        "outputId": "0be214f8-346e-4e28-a0b8-8de941c3789e"
      },
      "outputs": [
        {
          "data": {
            "text/plain": [
              "[26, 45, 40, 2, 128]"
            ]
          },
          "execution_count": 21,
          "metadata": {},
          "output_type": "execute_result"
        }
      ],
      "source": [
        "\"\"\"Convert labels to numeric values from label2id mapping\"\"\"\n",
        "train_int_labels = [label2id[label] for label in train_labels]\n",
        "test_int_labels = [label2id[label] for label in test_labels]\n",
        "test_int_labels[0:5]"
      ]
    },
    {
      "cell_type": "markdown",
      "metadata": {
        "id": "x7QIn5yAmVMC"
      },
      "source": [
        "# **making pytorch datasets**"
      ]
    },
    {
      "cell_type": "code",
      "execution_count": null,
      "metadata": {
        "id": "Xr73kL82gxn3"
      },
      "outputs": [],
      "source": [
        "# Create PyTorch datasets\n",
        "class IntentDataset(torch.utils.data.Dataset):\n",
        "    def __init__(self, encodings, labels):\n",
        "        self.encodings = encodings\n",
        "        self.labels = labels\n",
        "\n",
        "    def __getitem__(self, idx):\n",
        "        item = {key: val[idx] for key, val in self.encodings.items()}\n",
        "        item['labels'] = torch.tensor(self.labels[idx])\n",
        "        return item\n",
        "\n",
        "    def __len__(self):\n",
        "        return len(self.labels)\n",
        "\n",
        "train_dataset = IntentDataset(train_encodings, train_int_labels)\n",
        "test_dataset = IntentDataset(test_encodings, test_int_labels)"
      ]
    },
    {
      "cell_type": "code",
      "execution_count": null,
      "metadata": {
        "id": "yLYWMlWKfv85"
      },
      "outputs": [],
      "source": [
        "from torch.utils.data import DataLoader\n",
        "batch_size = 64  # Adjust the batch size as needed\n",
        "train_dataloader = DataLoader(\n",
        "    train_dataset,\n",
        "    batch_size=batch_size,\n",
        "    shuffle=True  # You can shuffle your data for randomness during training\n",
        ")\n",
        "eval_dataloader = DataLoader(\n",
        "    test_dataset,\n",
        "    batch_size=batch_size,\n",
        "    shuffle=False # You can shuffle your data for randomness during training\n",
        ")\n"
      ]
    },
    {
      "cell_type": "markdown",
      "metadata": {
        "id": "Z2Ikv9u_mZLT"
      },
      "source": [
        "# **initializing training arguments and training the model**"
      ]
    },
    {
      "cell_type": "code",
      "execution_count": null,
      "metadata": {
        "id": "91EG1y4z84He"
      },
      "outputs": [],
      "source": [
        "# Training arguments\n",
        "# previous_saved_dir='./intent_classification__'\n",
        "# saved_dir='/home/naive123/nlp/Sumit/massive_git/massive/phase_2_jupter_files/trained_model_11_checkpoints'\n",
        "saved_dir='/home/naive123/nlp/Sumit/massive_git/massive/phase_2_jupter_files/trained_model_3_again_fine_tuning_checkpoints/'\n",
        "\n",
        "training_args = TrainingArguments(\n",
        "    output_dir=saved_dir,\n",
        "    per_device_train_batch_size=32,\n",
        "    per_device_eval_batch_size=32,\n",
        "    seed=42,\n",
        "    # weight-decay=0.01\n",
        "    # gradient_accumulation_steps=40,\n",
        "    evaluation_strategy=\"steps\", # use 'epoch' for evaluating every epoch\n",
        "    logging_steps=10,\n",
        "    eval_steps=10,\n",
        "    save_total_limit=5,\n",
        "    save_steps=60,\n",
        "    learning_rate=2e-5,\n",
        "    # warmup_steps=400,\n",
        "    # weight_decay=0.10,\n",
        "    # adam_epsilon=1e-7,\n",
        "    # warmup_steps=400,\n",
        "    num_train_epochs=40,\n",
        "    logging_dir='./logs',\n",
        ")"
      ]
    },
    {
      "cell_type": "code",
      "execution_count": null,
      "metadata": {
        "colab": {
          "base_uri": "https://localhost:8080/"
        },
        "id": "SWuyjf0j8qus",
        "outputId": "2f03fafb-d71e-47b3-e520-771b01e1385e"
      },
      "outputs": [
        {
          "name": "stderr",
          "output_type": "stream",
          "text": [
            "/home/naive123/.local/lib/python3.8/site-packages/transformers/optimization.py:411: FutureWarning: This implementation of AdamW is deprecated and will be removed in a future version. Use the PyTorch implementation torch.optim.AdamW instead, or set `no_deprecation_warning=True` to disable this warning\n",
            "  warnings.warn(\n",
            "Epoch 0: 100%|██████████| 33/33 [00:06<00:00,  5.32it/s, loss=5.02]\n",
            "Evaluation: 100%|██████████| 3/3 [00:00<00:00, 33.13it/s]\n"
          ]
        },
        {
          "name": "stdout",
          "output_type": "stream",
          "text": [
            "Epoch 0: Evaluation Loss: 5.015932401021321\n",
            "learning rate is : 9e-05\n"
          ]
        },
        {
          "name": "stderr",
          "output_type": "stream",
          "text": [
            "Epoch 1: 100%|██████████| 33/33 [00:05<00:00,  5.76it/s, loss=4.91]\n",
            "Evaluation: 100%|██████████| 3/3 [00:00<00:00, 32.62it/s]\n"
          ]
        },
        {
          "name": "stdout",
          "output_type": "stream",
          "text": [
            "Epoch 1: Evaluation Loss: 4.354719956715901\n",
            "learning rate is : 9e-05\n"
          ]
        },
        {
          "name": "stderr",
          "output_type": "stream",
          "text": [
            "Epoch 2: 100%|██████████| 33/33 [00:05<00:00,  5.71it/s, loss=3.87]\n",
            "Evaluation: 100%|██████████| 3/3 [00:00<00:00, 32.82it/s]\n"
          ]
        },
        {
          "name": "stdout",
          "output_type": "stream",
          "text": [
            "Epoch 2: Evaluation Loss: 2.9020397663116455\n",
            "learning rate is : 9e-05\n"
          ]
        },
        {
          "name": "stderr",
          "output_type": "stream",
          "text": [
            "Epoch 3: 100%|██████████| 33/33 [00:05<00:00,  5.67it/s, loss=2.51]\n",
            "Evaluation: 100%|██████████| 3/3 [00:00<00:00, 32.36it/s]\n"
          ]
        },
        {
          "name": "stdout",
          "output_type": "stream",
          "text": [
            "Epoch 3: Evaluation Loss: 1.6637887159983318\n",
            "learning rate is : 9e-05\n"
          ]
        },
        {
          "name": "stderr",
          "output_type": "stream",
          "text": [
            "Epoch 4: 100%|██████████| 33/33 [00:05<00:00,  5.68it/s, loss=1.37]\n",
            "Evaluation: 100%|██████████| 3/3 [00:00<00:00, 32.14it/s]\n"
          ]
        },
        {
          "name": "stdout",
          "output_type": "stream",
          "text": [
            "Epoch 4: Evaluation Loss: 0.9011531273523966\n",
            "learning rate is : 9e-05\n"
          ]
        },
        {
          "name": "stderr",
          "output_type": "stream",
          "text": [
            "Epoch 5: 100%|██████████| 33/33 [00:05<00:00,  5.63it/s, loss=0.692]\n",
            "Evaluation: 100%|██████████| 3/3 [00:00<00:00, 31.92it/s]\n"
          ]
        },
        {
          "name": "stdout",
          "output_type": "stream",
          "text": [
            "Epoch 5: Evaluation Loss: 0.5209542115529379\n",
            "learning rate is : 9e-05\n"
          ]
        },
        {
          "name": "stderr",
          "output_type": "stream",
          "text": [
            "Epoch 6: 100%|██████████| 33/33 [00:05<00:00,  5.60it/s, loss=0.382]\n",
            "Evaluation: 100%|██████████| 3/3 [00:00<00:00, 31.82it/s]\n"
          ]
        },
        {
          "name": "stdout",
          "output_type": "stream",
          "text": [
            "Epoch 6: Evaluation Loss: 0.41068193813165027\n",
            "learning rate is : 9e-05\n"
          ]
        },
        {
          "name": "stderr",
          "output_type": "stream",
          "text": [
            "Epoch 7: 100%|██████████| 33/33 [00:05<00:00,  5.59it/s, loss=0.253]\n",
            "Evaluation: 100%|██████████| 3/3 [00:00<00:00, 31.92it/s]\n"
          ]
        },
        {
          "name": "stdout",
          "output_type": "stream",
          "text": [
            "Epoch 7: Evaluation Loss: 0.33546775082747143\n",
            "learning rate is : 9e-05\n"
          ]
        },
        {
          "name": "stderr",
          "output_type": "stream",
          "text": [
            "Epoch 8: 100%|██████████| 33/33 [00:05<00:00,  5.58it/s, loss=0.172]\n",
            "Evaluation: 100%|██████████| 3/3 [00:00<00:00, 31.88it/s]\n"
          ]
        },
        {
          "name": "stdout",
          "output_type": "stream",
          "text": [
            "Epoch 8: Evaluation Loss: 0.3348437324166298\n",
            "learning rate is : 9e-05\n"
          ]
        },
        {
          "name": "stderr",
          "output_type": "stream",
          "text": [
            "Epoch 9: 100%|██████████| 33/33 [00:05<00:00,  5.57it/s, loss=0.128]\n",
            "Evaluation: 100%|██████████| 3/3 [00:00<00:00, 31.73it/s]\n"
          ]
        },
        {
          "name": "stdout",
          "output_type": "stream",
          "text": [
            "Epoch 9: Evaluation Loss: 0.3698279360930125\n",
            "learning rate is : 9e-05\n"
          ]
        },
        {
          "name": "stderr",
          "output_type": "stream",
          "text": [
            "Epoch 10: 100%|██████████| 33/33 [00:05<00:00,  5.56it/s, loss=0.101]\n",
            "Evaluation: 100%|██████████| 3/3 [00:00<00:00, 31.84it/s]\n"
          ]
        },
        {
          "name": "stdout",
          "output_type": "stream",
          "text": [
            "Epoch 10: Evaluation Loss: 0.31436727320154506\n",
            "learning rate is : 9e-05\n"
          ]
        },
        {
          "name": "stderr",
          "output_type": "stream",
          "text": [
            "Epoch 11: 100%|██████████| 33/33 [00:05<00:00,  5.55it/s, loss=0.0764]\n",
            "Evaluation: 100%|██████████| 3/3 [00:00<00:00, 31.52it/s]\n"
          ]
        },
        {
          "name": "stdout",
          "output_type": "stream",
          "text": [
            "Epoch 11: Evaluation Loss: 0.29563751071691513\n",
            "learning rate is : 9e-05\n"
          ]
        },
        {
          "name": "stderr",
          "output_type": "stream",
          "text": [
            "Epoch 12: 100%|██████████| 33/33 [00:05<00:00,  5.55it/s, loss=0.0682]\n",
            "Evaluation: 100%|██████████| 3/3 [00:00<00:00, 31.64it/s]\n"
          ]
        },
        {
          "name": "stdout",
          "output_type": "stream",
          "text": [
            "Epoch 12: Evaluation Loss: 0.311932689199845\n",
            "learning rate is : 9e-05\n"
          ]
        },
        {
          "name": "stderr",
          "output_type": "stream",
          "text": [
            "Epoch 13: 100%|██████████| 33/33 [00:05<00:00,  5.54it/s, loss=0.0709]\n",
            "Evaluation: 100%|██████████| 3/3 [00:00<00:00, 31.37it/s]\n"
          ]
        },
        {
          "name": "stdout",
          "output_type": "stream",
          "text": [
            "Epoch 13: Evaluation Loss: 0.3236170969903469\n",
            "learning rate is : 9e-05\n"
          ]
        },
        {
          "name": "stderr",
          "output_type": "stream",
          "text": [
            "Epoch 14: 100%|██████████| 33/33 [00:05<00:00,  5.55it/s, loss=0.0613]\n",
            "Evaluation: 100%|██████████| 3/3 [00:00<00:00, 31.38it/s]\n"
          ]
        },
        {
          "name": "stdout",
          "output_type": "stream",
          "text": [
            "Epoch 14: Evaluation Loss: 0.30221828632056713\n",
            "learning rate is : 9e-05\n"
          ]
        },
        {
          "name": "stderr",
          "output_type": "stream",
          "text": [
            "Epoch 15: 100%|██████████| 33/33 [00:05<00:00,  5.54it/s, loss=0.0574]\n",
            "Evaluation: 100%|██████████| 3/3 [00:00<00:00, 31.67it/s]\n"
          ]
        },
        {
          "name": "stdout",
          "output_type": "stream",
          "text": [
            "Epoch 15: Evaluation Loss: 0.3149873713652293\n",
            "learning rate is : 9e-05\n"
          ]
        },
        {
          "name": "stderr",
          "output_type": "stream",
          "text": [
            "Epoch 16: 100%|██████████| 33/33 [00:05<00:00,  5.54it/s, loss=0.0409]\n",
            "Evaluation: 100%|██████████| 3/3 [00:00<00:00, 31.57it/s]\n"
          ]
        },
        {
          "name": "stdout",
          "output_type": "stream",
          "text": [
            "Epoch 16: Evaluation Loss: 0.3227964515487353\n",
            "learning rate is : 9e-05\n"
          ]
        },
        {
          "name": "stderr",
          "output_type": "stream",
          "text": [
            "Epoch 17: 100%|██████████| 33/33 [00:05<00:00,  5.54it/s, loss=0.0372]\n",
            "Evaluation: 100%|██████████| 3/3 [00:00<00:00, 31.58it/s]\n"
          ]
        },
        {
          "name": "stdout",
          "output_type": "stream",
          "text": [
            "Epoch 17: Evaluation Loss: 0.3069939458121856\n",
            "learning rate is : 9e-05\n"
          ]
        },
        {
          "name": "stderr",
          "output_type": "stream",
          "text": [
            "Epoch 18: 100%|██████████| 33/33 [00:05<00:00,  5.54it/s, loss=0.0338]\n",
            "Evaluation: 100%|██████████| 3/3 [00:00<00:00, 31.67it/s]\n"
          ]
        },
        {
          "name": "stdout",
          "output_type": "stream",
          "text": [
            "Epoch 18: Evaluation Loss: 0.3142201378941536\n",
            "learning rate is : 9e-05\n"
          ]
        },
        {
          "name": "stderr",
          "output_type": "stream",
          "text": [
            "Epoch 19:  79%|███████▉  | 26/33 [00:04<00:01,  5.49it/s, loss=0.0325]"
          ]
        }
      ],
      "source": [
        "import os\n",
        "import torch\n",
        "from transformers import AdamW, get_linear_schedule_with_warmup\n",
        "from transformers import TrainingArguments\n",
        "from sklearn.model_selection import KFold\n",
        "from tqdm import tqdm\n",
        "\n",
        "# Define your model, tokenizer, and other necessary components here\n",
        "# Make sure your model is moved to the GPU if available\n",
        "\n",
        "device = torch.device(\"cuda\" if torch.cuda.is_available() else \"cpu\")\n",
        "model.to(device)\n",
        "\n",
        "# Define the learning rate as a float (e.g., 7e-6)\n",
        "# learning_rate = 7e-5\n",
        "learning_rate=9e-5\n",
        "\n",
        "# Define the number of training epochs as an integer (e.g., 40)\n",
        "num_train_epochs = 40\n",
        "\n",
        "# Create the optimizer\n",
        "optimizer = AdamW(model.parameters(), lr=learning_rate)\n",
        "\n",
        "# Define the number of training steps (you may need to adjust this based on your dataset)\n",
        "total_train_steps = len(train_dataloader) * num_train_epochs\n",
        "\n",
        "# Define the number of warmup steps (e.g., 10% of the total training steps)\n",
        "num_warmup_steps = int(0.1 * total_train_steps)\n",
        "\n",
        "# Create a learning rate scheduler\n",
        "lr_scheduler = get_linear_schedule_with_warmup(\n",
        "    optimizer,\n",
        "    num_warmup_steps=num_warmup_steps,\n",
        "    num_training_steps=total_train_steps,\n",
        ")\n",
        "\n",
        "# Define the output directory for saving the model\n",
        "# saved_dir='/home/naive123/nlp/Sumit/massive_git/massive/phase_2_jupter_files/trained_model_3_again_fine_tuning_checkpoints/'\n",
        "saved_dir='/home/naive123/nlp/Sumit/massive_git/massive/phase_2_jupter_files/trained_model_1_direct_roberta_base_checkpoints/'\n",
        "# Training loop with tqdm progress bar\n",
        "for epoch in range(num_train_epochs):\n",
        "    model.train()\n",
        "    train_loss = 0.0\n",
        "\n",
        "    progress_bar = tqdm(enumerate(train_dataloader), total=len(train_dataloader), desc=f\"Epoch {epoch}\")\n",
        "\n",
        "    for step, batch in progress_bar:\n",
        "        # Move data to the GPU\n",
        "        batch = {k: v.to(device) for k, v in batch.items()}\n",
        "\n",
        "        # Forward pass\n",
        "        outputs = model(**batch)\n",
        "        loss = outputs.loss\n",
        "\n",
        "        # Backward pass and optimization\n",
        "        loss.backward()\n",
        "        optimizer.step()\n",
        "        optimizer.zero_grad()\n",
        "\n",
        "        # Update the learning rate\n",
        "        lr_scheduler.step()\n",
        "\n",
        "        # Accumulate the total loss\n",
        "        train_loss += loss.item()\n",
        "\n",
        "        # Log loss and other metrics if needed\n",
        "        if step % training_args.logging_steps == 0:\n",
        "            avg_loss = train_loss / (step + 1)\n",
        "            progress_bar.set_postfix(loss=avg_loss)\n",
        "\n",
        "    # Save the model checkpoint at the end of each epoch\n",
        "    checkpoint_dir = os.path.join(saved_dir, f\"epoch_{epoch}\")\n",
        "    os.makedirs(checkpoint_dir, exist_ok=True)\n",
        "\n",
        "    # Save model weights\n",
        "    model.save_pretrained(checkpoint_dir)\n",
        "\n",
        "    # Save optimizer state\n",
        "    # torch.save(optimizer.state_dict(), os.path.join(checkpoint_dir, \"optimizer.pt\"))\n",
        "\n",
        "    # # Save learning rate scheduler state\n",
        "    # torch.save(lr_scheduler.state_dict(), os.path.join(checkpoint_dir, \"scheduler.pt\"))\n",
        "\n",
        "    # Save RNG state (if needed)\n",
        "    # torch.save(torch.get_rng_state(), os.path.join(checkpoint_dir, \"rng_state.pth\"))\n",
        "\n",
        "    # Save config.json (if needed)\n",
        "    model.config.save_pretrained(checkpoint_dir)\n",
        "\n",
        "    # Save tokenizer (if needed)\n",
        "    tokenizer.save_pretrained(checkpoint_dir)\n",
        "\n",
        "    # Evaluation loop with tqdm progress bar\n",
        "    model.eval()\n",
        "    eval_loss = 0.0\n",
        "\n",
        "    progress_bar_eval = tqdm(enumerate(eval_dataloader), total=len(eval_dataloader), desc=f\"Evaluation\")\n",
        "\n",
        "    for step, batch in progress_bar_eval:\n",
        "        batch = {k: v.to(device) for k, v in batch.items()}\n",
        "        with torch.no_grad():\n",
        "            outputs = model(**batch)\n",
        "            loss = outputs.loss\n",
        "            eval_loss += loss.item()\n",
        "\n",
        "    avg_eval_loss = eval_loss / len(eval_dataloader)\n",
        "    print(f\"Epoch {epoch}: Evaluation Loss: {avg_eval_loss}\")\n",
        "    print(f'learning rate is : {learning_rate}')\n",
        "\n",
        "    # if (epoch + 1) % 3 == 0:\n",
        "    #     learning_rate *= 0.75\n",
        "    #     for param_group in optimizer.param_groups:\n",
        "    #         param_group['lr'] = learning_rate\n"
      ]
    },
    {
      "cell_type": "markdown",
      "metadata": {
        "id": "_oTPXvQfmjdF"
      },
      "source": [
        "# **prediction on the test set(whose labels is available)**"
      ]
    },
    {
      "cell_type": "code",
      "execution_count": null,
      "metadata": {
        "id": "Tu3BMzSoyF22"
      },
      "outputs": [],
      "source": [
        "# raw_predictions = model.predict(test_dataset)\n",
        "# predicted_labels = np.argmax(raw_predictions.predictions)\n",
        "# predicted_labels, raw_predictions\n",
        "import numpy as np\n",
        "import torch\n",
        "# model_name=\"/home/naive123/nlp/Sumit/massive_git/massive/phase_2_jupter_files/trained_model_3_again_fine_tuning_checkpoints/epoch_15\"\n",
        "# model = RobertaForSequenceClassification.from_pretrained(model_name, num_labels=num_classes, ignore_mismatched_sizes=True)\n",
        "\n",
        "# Put your test data into a DataLoader or batch format if it's not already\n",
        "test_dataloader = DataLoader(test_dataset, batch_size=batch_size, shuffle=False)\n",
        "\n",
        "model.to(device)\n",
        "# Set the model to evaluation mode\n",
        "model.eval()\n",
        "\n",
        "predicted_labels = []\n",
        "raw_predictions = []\n",
        "\n",
        "with torch.no_grad():\n",
        "    for batch in test_dataloader:\n",
        "        # Move batch to the GPU if available\n",
        "        batch = {k: v.to(device) for k, v in batch.items()}\n",
        "\n",
        "        # Forward pass\n",
        "        outputs = model(**batch)\n",
        "        logits = outputs.logits\n",
        "\n",
        "        # Get predicted labels (argmax)\n",
        "        batch_predictions = np.argmax(logits.cpu().numpy(), axis=1)\n",
        "\n",
        "        # Append batch predictions to the list\n",
        "        predicted_labels.extend(batch_predictions)\n",
        "\n",
        "        # Append raw logits if needed\n",
        "        raw_predictions.extend(logits.cpu().numpy())\n",
        "\n",
        "# Convert the results to numpy arrays\n",
        "predicted_labels = np.array(predicted_labels)\n",
        "raw_predictions = np.array(raw_predictions)\n",
        "\n",
        "# Now, you have predicted labels and raw logits.\n"
      ]
    },
    {
      "cell_type": "code",
      "execution_count": null,
      "metadata": {
        "id": "FbYSHVdI6Bcj",
        "outputId": "5743b17a-6e02-4fca-be55-177ac7998e6e"
      },
      "outputs": [
        {
          "data": {
            "text/plain": [
              "(array([129,  78,  11, 105,  90, 108,  15,  70,   3,  69, 145,  66,  32,\n",
              "        117,  16, 123, 142,  17, 119, 103,  20,  43, 102,  91,  24, 147,\n",
              "         56,  57, 123, 120, 119,  56,  34, 106,  14, 127, 143,  35,  44,\n",
              "         53, 125, 149,   8,  99,  38,  78, 109,  75, 115,  29, 103,  48,\n",
              "        148, 136,   0,  49, 115,  82, 116,  27, 139, 139,  68,  60,  63,\n",
              "        100,  68,   6, 123,   4, 122,  24, 131,  40,  50, 131, 118,  47,\n",
              "        109,  37,  35, 126,  94, 140,  18,   8,   5,  19,  36,  64,  52,\n",
              "         58,  82, 144,  88, 108,  59, 134,   9,   2,  48,  31,  95,  77,\n",
              "         12,  61,  44,  92, 146,  12, 128,  22,  38,  23, 118,  67,  54,\n",
              "         62,  69,  45,  33,  83,  76,  26,  63,  90,  71, 132,  96,   1,\n",
              "         96,  46, 130,  70, 113,  65,  80,  32,  85, 124,  46,  94, 149,\n",
              "         81,  41,  39, 122,   6, 121, 112,  23,  98,  42,  25,  47,  34,\n",
              "         85,  21, 142, 107,  86, 137, 130, 100, 145, 138, 141, 101,  11,\n",
              "         15,  76,   7,  36, 110, 136,  26, 101,  95, 134,  21,  18,  84,\n",
              "         79,   4,   0,   3,  93,  60,  51,  79,  74,  97, 132, 104,  39,\n",
              "        107, 133,  67, 105,  73, 135,  30,  30, 102,  97,  89,  55,  71,\n",
              "         67, 138,  13,  62,  31,  87,  80,  59,  43,  51,  28,  10,  62,\n",
              "         81, 144,  72,  99]),\n",
              " array([[-0.05978292, -0.870194  , -0.4790594 , ..., -0.1362729 ,\n",
              "          0.59307367,  0.04716885],\n",
              "        [-1.3579962 , -1.0005026 , -0.04119011, ...,  0.1397362 ,\n",
              "          0.6803178 ,  0.6309271 ],\n",
              "        [-0.21780862, -0.8204707 ,  0.68705153, ...,  0.7074209 ,\n",
              "          0.08407623, -0.59668005],\n",
              "        ...,\n",
              "        [-0.656675  , -0.26105952, -2.165199  , ...,  2.3658848 ,\n",
              "         -0.3908679 ,  3.3265994 ],\n",
              "        [ 0.788561  ,  0.41060928,  1.4276336 , ...,  0.31927678,\n",
              "         -1.4661493 ,  0.17753068],\n",
              "        [ 0.58602333,  0.2284433 ,  0.7102467 , ...,  1.388017  ,\n",
              "          0.2578019 ,  1.0707556 ]], dtype=float32))"
            ]
          },
          "execution_count": 36,
          "metadata": {},
          "output_type": "execute_result"
        }
      ],
      "source": [
        "predicted_labels, raw_predictions"
      ]
    },
    {
      "cell_type": "code",
      "execution_count": null,
      "metadata": {
        "id": "gXwcHbzpHPSq"
      },
      "outputs": [],
      "source": [
        "# len(raw_predictions.predictions), raw_predictions.predictions"
      ]
    },
    {
      "cell_type": "code",
      "execution_count": null,
      "metadata": {
        "id": "8BSzaN65HjKr"
      },
      "outputs": [],
      "source": [
        "# raw_predictions = trainer.predict(test_dataset)"
      ]
    },
    {
      "cell_type": "code",
      "execution_count": null,
      "metadata": {
        "colab": {
          "base_uri": "https://localhost:8080/",
          "height": 412
        },
        "id": "zK98ya6ug3Z6",
        "outputId": "1ced43c1-e119-4ade-f83c-01bfafcb13e5"
      },
      "outputs": [
        {
          "name": "stdout",
          "output_type": "stream",
          "text": [
            "Sample Text: Can you please tell me how much I need to pay for my water bill this month?\n",
            "Predicted Intent: bill balance\n"
          ]
        }
      ],
      "source": [
        "\n",
        "# # Predict on the test set\n",
        "# raw_predictions = trainer.predict(test_dataset)\n",
        "# predicted_labels = np.argmax(raw_predictions.predictions, axis=1)\n",
        "\n",
        "# # Convert labels back to original intents\n",
        "# # predicted_intents = [list(label_map.keys())[list(label_map.values()).index(label)] for label in predicted_labels]\n",
        "# predicted_intents=[id2label[label] for label in predicted_labels]\n",
        "\n",
        "# # Print one sample prediction\n",
        "# sample_idx = random.randint(0, len(test_data) - 1)\n",
        "# sample_text = test_data[sample_idx]\n",
        "# sample_intent = predicted_intents[sample_idx]\n",
        "\n",
        "# print(f\"Sample Text: {sample_text}\")\n",
        "# print(f\"Predicted Intent: {sample_intent}\")\n",
        "import random\n",
        "import numpy as np\n",
        "\n",
        "# Put your test data into a DataLoader or batch format if it's not already\n",
        "test_dataloader = DataLoader(test_dataset, batch_size=batch_size, shuffle=False)\n",
        "\n",
        "# Set the model to evaluation mode\n",
        "model.eval()\n",
        "\n",
        "predicted_labels = []\n",
        "\n",
        "with torch.no_grad():\n",
        "    for batch in test_dataloader:\n",
        "        # Move batch to the GPU if available\n",
        "        batch = {k: v.to(device) for k, v in batch.items()}\n",
        "\n",
        "        # Forward pass\n",
        "        outputs = model(**batch)\n",
        "        logits = outputs.logits\n",
        "\n",
        "        # Get predicted labels (argmax)\n",
        "        batch_predictions = np.argmax(logits.cpu().numpy(), axis=1)\n",
        "\n",
        "        # Append batch predictions to the list\n",
        "        predicted_labels.extend(batch_predictions)\n",
        "\n",
        "# Convert the results to numpy arrays\n",
        "predicted_labels = np.array(predicted_labels)\n",
        "\n",
        "# Convert labels back to original intents\n",
        "predicted_intents = [id2label[label] for label in predicted_labels]\n",
        "\n",
        "# Print one sample prediction\n",
        "sample_idx = random.randint(0, len(test_data) - 1)\n",
        "sample_text = test_data[sample_idx]\n",
        "sample_intent = predicted_intents[sample_idx]\n",
        "\n",
        "print(f\"Sample Text: {sample_text}\")\n",
        "print(f\"Predicted Intent: {sample_intent}\")\n"
      ]
    },
    {
      "cell_type": "markdown",
      "metadata": {
        "id": "0m392Widmt_h"
      },
      "source": [
        "# **metrics(accuracy criterias)**"
      ]
    },
    {
      "cell_type": "code",
      "execution_count": null,
      "metadata": {
        "colab": {
          "base_uri": "https://localhost:8080/"
        },
        "id": "5a7SyKe1g5cW",
        "outputId": "e8114842-eb90-433e-91ba-6271bb1851c9"
      },
      "outputs": [
        {
          "name": "stdout",
          "output_type": "stream",
          "text": [
            "{'interest rate': {'precision': 1.0, 'recall': 1.0, 'f1-score': 1.0, 'support': 2}, 'roll dice': {'precision': 1.0, 'recall': 1.0, 'f1-score': 1.0, 'support': 1}, 'redeem rewards': {'precision': 1.0, 'recall': 1.0, 'f1-score': 1.0, 'support': 1}, 'translate': {'precision': 1.0, 'recall': 1.0, 'f1-score': 1.0, 'support': 2}, 'who do you work for': {'precision': 1.0, 'recall': 1.0, 'f1-score': 1.0, 'support': 2}, 'improve credit score': {'precision': 1.0, 'recall': 0.5, 'f1-score': 0.6666666666666666, 'support': 2}, 'shopping list update': {'precision': 1.0, 'recall': 1.0, 'f1-score': 1.0, 'support': 2}, 'exchange rate': {'precision': 1.0, 'recall': 1.0, 'f1-score': 1.0, 'support': 1}, 'pto balance': {'precision': 1.0, 'recall': 1.0, 'f1-score': 1.0, 'support': 2}, 'change speed': {'precision': 1.0, 'recall': 1.0, 'f1-score': 1.0, 'support': 1}, 'are you a bot': {'precision': 1.0, 'recall': 0.5, 'f1-score': 0.6666666666666666, 'support': 2}, 'how old are you': {'precision': 1.0, 'recall': 1.0, 'f1-score': 1.0, 'support': 2}, 'insurance change': {'precision': 1.0, 'recall': 1.0, 'f1-score': 1.0, 'support': 2}, 'gas': {'precision': 1.0, 'recall': 1.0, 'f1-score': 1.0, 'support': 1}, 'ingredient substitution': {'precision': 1.0, 'recall': 1.0, 'f1-score': 1.0, 'support': 1}, 'update playlist': {'precision': 1.0, 'recall': 1.0, 'f1-score': 1.0, 'support': 2}, 'make call': {'precision': 1.0, 'recall': 1.0, 'f1-score': 1.0, 'support': 1}, 'travel notification': {'precision': 1.0, 'recall': 1.0, 'f1-score': 1.0, 'support': 1}, 'min payment': {'precision': 1.0, 'recall': 1.0, 'f1-score': 1.0, 'support': 2}, 'rewards balance': {'precision': 1.0, 'recall': 1.0, 'f1-score': 1.0, 'support': 1}, 'what can i ask you': {'precision': 1.0, 'recall': 1.0, 'f1-score': 1.0, 'support': 1}, 'pto request': {'precision': 1.0, 'recall': 1.0, 'f1-score': 1.0, 'support': 2}, 'report fraud': {'precision': 1.0, 'recall': 1.0, 'f1-score': 1.0, 'support': 1}, 'pto used': {'precision': 1.0, 'recall': 1.0, 'f1-score': 1.0, 'support': 2}, 'credit score': {'precision': 0.5, 'recall': 1.0, 'f1-score': 0.6666666666666666, 'support': 1}, 'repeat': {'precision': 1.0, 'recall': 1.0, 'f1-score': 1.0, 'support': 1}, 'maybe': {'precision': 0.5, 'recall': 1.0, 'f1-score': 0.6666666666666666, 'support': 1}, 'change user name': {'precision': 1.0, 'recall': 1.0, 'f1-score': 1.0, 'support': 1}, 'time': {'precision': 1.0, 'recall': 1.0, 'f1-score': 1.0, 'support': 1}, 'account blocked': {'precision': 1.0, 'recall': 0.5, 'f1-score': 0.6666666666666666, 'support': 2}, 'international visa': {'precision': 1.0, 'recall': 1.0, 'f1-score': 1.0, 'support': 2}, 'jump start': {'precision': 1.0, 'recall': 1.0, 'f1-score': 1.0, 'support': 2}, 'car rental': {'precision': 1.0, 'recall': 1.0, 'f1-score': 1.0, 'support': 2}, 'order status': {'precision': 1.0, 'recall': 1.0, 'f1-score': 1.0, 'support': 1}, 'mpg': {'precision': 1.0, 'recall': 1.0, 'f1-score': 1.0, 'support': 2}, 'order': {'precision': 1.0, 'recall': 1.0, 'f1-score': 1.0, 'support': 2}, 'recipe': {'precision': 1.0, 'recall': 1.0, 'f1-score': 1.0, 'support': 2}, 'calendar update': {'precision': 1.0, 'recall': 0.5, 'f1-score': 0.6666666666666666, 'support': 2}, 'application status': {'precision': 1.0, 'recall': 1.0, 'f1-score': 1.0, 'support': 2}, 'uber': {'precision': 1.0, 'recall': 1.0, 'f1-score': 1.0, 'support': 2}, 'how busy': {'precision': 1.0, 'recall': 1.0, 'f1-score': 1.0, 'support': 1}, 'date': {'precision': 1.0, 'recall': 1.0, 'f1-score': 1.0, 'support': 1}, 'tire change': {'precision': 1.0, 'recall': 1.0, 'f1-score': 1.0, 'support': 1}, 'change ai name': {'precision': 1.0, 'recall': 1.0, 'f1-score': 1.0, 'support': 2}, 'card declined': {'precision': 0.5, 'recall': 1.0, 'f1-score': 0.6666666666666666, 'support': 1}, 'flight status': {'precision': 1.0, 'recall': 1.0, 'f1-score': 1.0, 'support': 1}, 'what song': {'precision': 1.0, 'recall': 1.0, 'f1-score': 1.0, 'support': 2}, 'insurance': {'precision': 1.0, 'recall': 1.0, 'f1-score': 1.0, 'support': 2}, 'taxes': {'precision': 1.0, 'recall': 1.0, 'f1-score': 1.0, 'support': 2}, 'food last': {'precision': 1.0, 'recall': 1.0, 'f1-score': 1.0, 'support': 1}, 'credit limit change': {'precision': 1.0, 'recall': 1.0, 'f1-score': 1.0, 'support': 1}, 'restaurant suggestion': {'precision': 1.0, 'recall': 1.0, 'f1-score': 1.0, 'support': 2}, 'transactions': {'precision': 0.0, 'recall': 0.0, 'f1-score': 0.0, 'support': 1}, 'user name': {'precision': 1.0, 'recall': 1.0, 'f1-score': 1.0, 'support': 1}, 'measurement conversion': {'precision': 1.0, 'recall': 1.0, 'f1-score': 1.0, 'support': 1}, 'schedule meeting': {'precision': 1.0, 'recall': 1.0, 'f1-score': 1.0, 'support': 1}, 'fun fact': {'precision': 1.0, 'recall': 1.0, 'f1-score': 1.0, 'support': 2}, 'play music': {'precision': 1.0, 'recall': 1.0, 'f1-score': 1.0, 'support': 1}, 'carry on': {'precision': 1.0, 'recall': 1.0, 'f1-score': 1.0, 'support': 1}, 'plug type': {'precision': 1.0, 'recall': 1.0, 'f1-score': 1.0, 'support': 2}, 'next holiday': {'precision': 1.0, 'recall': 1.0, 'f1-score': 1.0, 'support': 2}, 'directions': {'precision': 1.0, 'recall': 1.0, 'f1-score': 1.0, 'support': 1}, 'goodbye': {'precision': 0.6666666666666666, 'recall': 1.0, 'f1-score': 0.8, 'support': 2}, 'distance': {'precision': 1.0, 'recall': 1.0, 'f1-score': 1.0, 'support': 2}, 'cancel': {'precision': 1.0, 'recall': 1.0, 'f1-score': 1.0, 'support': 1}, 'travel alert': {'precision': 1.0, 'recall': 1.0, 'f1-score': 1.0, 'support': 1}, 'apr': {'precision': 1.0, 'recall': 1.0, 'f1-score': 1.0, 'support': 1}, 'oil change when': {'precision': 0.6666666666666666, 'recall': 1.0, 'f1-score': 0.8, 'support': 2}, 'travel suggestion': {'precision': 1.0, 'recall': 1.0, 'f1-score': 1.0, 'support': 2}, 'do you have pets': {'precision': 1.0, 'recall': 1.0, 'f1-score': 1.0, 'support': 2}, 'alarm': {'precision': 1.0, 'recall': 1.0, 'f1-score': 1.0, 'support': 2}, 'last maintenance': {'precision': 1.0, 'recall': 1.0, 'f1-score': 1.0, 'support': 2}, 'new card': {'precision': 1.0, 'recall': 1.0, 'f1-score': 1.0, 'support': 1}, 'book hotel': {'precision': 1.0, 'recall': 1.0, 'f1-score': 1.0, 'support': 1}, 'accept reservations': {'precision': 1.0, 'recall': 1.0, 'f1-score': 1.0, 'support': 1}, 'reminder update': {'precision': 1.0, 'recall': 1.0, 'f1-score': 1.0, 'support': 1}, 'reset settings': {'precision': 1.0, 'recall': 1.0, 'f1-score': 1.0, 'support': 2}, 'share location': {'precision': 1.0, 'recall': 1.0, 'f1-score': 1.0, 'support': 1}, 'yes': {'precision': 1.0, 'recall': 1.0, 'f1-score': 1.0, 'support': 2}, 'find phone': {'precision': 1.0, 'recall': 1.0, 'f1-score': 1.0, 'support': 2}, 'routing': {'precision': 1.0, 'recall': 1.0, 'f1-score': 1.0, 'support': 2}, 'sync device': {'precision': 1.0, 'recall': 1.0, 'f1-score': 1.0, 'support': 2}, 'direct deposit': {'precision': 1.0, 'recall': 1.0, 'f1-score': 1.0, 'support': 2}, 'expiration date': {'precision': 1.0, 'recall': 1.0, 'f1-score': 1.0, 'support': 1}, 'credit limit': {'precision': 1.0, 'recall': 1.0, 'f1-score': 1.0, 'support': 1}, 'calories': {'precision': 1.0, 'recall': 1.0, 'f1-score': 1.0, 'support': 2}, 'cook time': {'precision': 1.0, 'recall': 1.0, 'f1-score': 1.0, 'support': 1}, 'international fees': {'precision': 1.0, 'recall': 1.0, 'f1-score': 1.0, 'support': 1}, 'timezone': {'precision': 1.0, 'recall': 1.0, 'f1-score': 1.0, 'support': 1}, 'meal suggestion': {'precision': 1.0, 'recall': 1.0, 'f1-score': 1.0, 'support': 1}, 'pin change': {'precision': 0.5, 'recall': 1.0, 'f1-score': 0.6666666666666666, 'support': 1}, 'current location': {'precision': 1.0, 'recall': 1.0, 'f1-score': 1.0, 'support': 1}, 'where are you from': {'precision': 1.0, 'recall': 1.0, 'f1-score': 1.0, 'support': 1}, 'w2': {'precision': 1.0, 'recall': 1.0, 'f1-score': 1.0, 'support': 1}, 'bill due': {'precision': 1.0, 'recall': 1.0, 'f1-score': 1.0, 'support': 2}, 'replacement card duration': {'precision': 1.0, 'recall': 1.0, 'f1-score': 1.0, 'support': 2}, 'restaurant reviews': {'precision': 1.0, 'recall': 1.0, 'f1-score': 1.0, 'support': 2}, 'nutrition info': {'precision': 1.0, 'recall': 1.0, 'f1-score': 1.0, 'support': 2}, 'shopping list': {'precision': 1.0, 'recall': 1.0, 'f1-score': 1.0, 'support': 1}, 'transfer': {'precision': 1.0, 'recall': 1.0, 'f1-score': 1.0, 'support': 2}, 'definition': {'precision': 1.0, 'recall': 1.0, 'f1-score': 1.0, 'support': 2}, 'cancel reservation': {'precision': 0.5, 'recall': 1.0, 'f1-score': 0.6666666666666666, 'support': 1}, 'meeting schedule': {'precision': 1.0, 'recall': 1.0, 'f1-score': 1.0, 'support': 2}, 'pto request status': {'precision': 1.0, 'recall': 1.0, 'f1-score': 1.0, 'support': 2}, 'ingredients list': {'precision': 1.0, 'recall': 1.0, 'f1-score': 1.0, 'support': 1}, 'who made you': {'precision': 1.0, 'recall': 1.0, 'f1-score': 1.0, 'support': 2}, 'calendar': {'precision': 1.0, 'recall': 1.0, 'f1-score': 1.0, 'support': 1}, 'thank you': {'precision': 1.0, 'recall': 1.0, 'f1-score': 1.0, 'support': 2}, 'bill balance': {'precision': 1.0, 'recall': 1.0, 'f1-score': 1.0, 'support': 2}, 'greeting': {'precision': 1.0, 'recall': 1.0, 'f1-score': 1.0, 'support': 2}, 'traffic': {'precision': 1.0, 'recall': 1.0, 'f1-score': 1.0, 'support': 1}, 'schedule maintenance': {'precision': 0.0, 'recall': 0.0, 'f1-score': 0.0, 'support': 1}, 'whisper mode': {'precision': 1.0, 'recall': 1.0, 'f1-score': 1.0, 'support': 1}, 'restaurant reservation': {'precision': 1.0, 'recall': 1.0, 'f1-score': 1.0, 'support': 1}, 'smart home': {'precision': 0.0, 'recall': 0.0, 'f1-score': 0.0, 'support': 1}, 'todo list update': {'precision': 1.0, 'recall': 1.0, 'f1-score': 1.0, 'support': 2}, 'meaning of life': {'precision': 1.0, 'recall': 1.0, 'f1-score': 1.0, 'support': 1}, 'calculator': {'precision': 1.0, 'recall': 1.0, 'f1-score': 1.0, 'support': 1}, 'timer': {'precision': 1.0, 'recall': 1.0, 'f1-score': 1.0, 'support': 2}, 'vaccines': {'precision': 1.0, 'recall': 1.0, 'f1-score': 1.0, 'support': 2}, 'freeze account': {'precision': 1.0, 'recall': 1.0, 'f1-score': 1.0, 'support': 1}, 'no': {'precision': 1.0, 'recall': 1.0, 'f1-score': 1.0, 'support': 1}, 'rollover 401k': {'precision': 1.0, 'recall': 1.0, 'f1-score': 1.0, 'support': 2}, 'balance': {'precision': 0.6666666666666666, 'recall': 1.0, 'f1-score': 0.8, 'support': 2}, 'next song': {'precision': 1.0, 'recall': 1.0, 'f1-score': 1.0, 'support': 1}, 'payday': {'precision': 1.0, 'recall': 0.5, 'f1-score': 0.6666666666666666, 'support': 2}, 'tell joke': {'precision': 1.0, 'recall': 1.0, 'f1-score': 1.0, 'support': 1}, 'damaged card': {'precision': 1.0, 'recall': 1.0, 'f1-score': 1.0, 'support': 1}, 'change volume': {'precision': 1.0, 'recall': 1.0, 'f1-score': 1.0, 'support': 1}, 'change language': {'precision': 1.0, 'recall': 1.0, 'f1-score': 1.0, 'support': 1}, 'weather': {'precision': 1.0, 'recall': 1.0, 'f1-score': 1.0, 'support': 2}, 'change accent': {'precision': 1.0, 'recall': 1.0, 'f1-score': 1.0, 'support': 2}, 'gas type': {'precision': 1.0, 'recall': 1.0, 'f1-score': 1.0, 'support': 2}, 'what are your hobbies': {'precision': 1.0, 'recall': 1.0, 'f1-score': 1.0, 'support': 1}, 'pay bill': {'precision': 1.0, 'recall': 1.0, 'f1-score': 1.0, 'support': 2}, 'book flight': {'precision': 1.0, 'recall': 1.0, 'f1-score': 1.0, 'support': 1}, 'spelling': {'precision': 1.0, 'recall': 1.0, 'f1-score': 1.0, 'support': 2}, 'todo list': {'precision': 1.0, 'recall': 0.5, 'f1-score': 0.6666666666666666, 'support': 2}, 'report lost card': {'precision': 1.0, 'recall': 1.0, 'f1-score': 1.0, 'support': 2}, 'income': {'precision': 1.0, 'recall': 1.0, 'f1-score': 1.0, 'support': 2}, 'confirm reservation': {'precision': 1.0, 'recall': 1.0, 'f1-score': 1.0, 'support': 1}, 'oil change how': {'precision': 1.0, 'recall': 1.0, 'f1-score': 1.0, 'support': 1}, 'spending history': {'precision': 1.0, 'recall': 1.0, 'f1-score': 1.0, 'support': 2}, 'lost luggage': {'precision': 1.0, 'recall': 1.0, 'f1-score': 1.0, 'support': 1}, 'reminder': {'precision': 0.5, 'recall': 1.0, 'f1-score': 0.6666666666666666, 'support': 1}, 'tire pressure': {'precision': 1.0, 'recall': 1.0, 'f1-score': 1.0, 'support': 2}, 'flip coin': {'precision': 1.0, 'recall': 0.5, 'f1-score': 0.6666666666666666, 'support': 2}, 'order checks': {'precision': 1.0, 'recall': 1.0, 'f1-score': 1.0, 'support': 1}, 'what is your name': {'precision': 1.0, 'recall': 1.0, 'f1-score': 1.0, 'support': 1}, 'text': {'precision': 1.0, 'recall': 1.0, 'f1-score': 1.0, 'support': 2}, 'accuracy': 0.9555555555555556, 'macro avg': {'precision': 0.9533333333333334, 'recall': 0.9566666666666667, 'f1-score': 0.9471111111111111, 'support': 225}, 'weighted avg': {'precision': 0.9644444444444444, 'recall': 0.9555555555555556, 'f1-score': 0.9517037037037037, 'support': 225}}\n",
            "\n",
            "\n",
            "Accuracy: 0.9556\n",
            "Precision: 0.9533\n",
            "Recall: 0.9567\n",
            "F1 Score: 0.9471\n"
          ]
        },
        {
          "name": "stderr",
          "output_type": "stream",
          "text": [
            "/home/naive123/.local/lib/python3.8/site-packages/sklearn/metrics/_classification.py:1344: UndefinedMetricWarning: Precision and F-score are ill-defined and being set to 0.0 in labels with no predicted samples. Use `zero_division` parameter to control this behavior.\n",
            "  _warn_prf(average, modifier, msg_start, len(result))\n",
            "/home/naive123/.local/lib/python3.8/site-packages/sklearn/metrics/_classification.py:1344: UndefinedMetricWarning: Precision and F-score are ill-defined and being set to 0.0 in labels with no predicted samples. Use `zero_division` parameter to control this behavior.\n",
            "  _warn_prf(average, modifier, msg_start, len(result))\n",
            "/home/naive123/.local/lib/python3.8/site-packages/sklearn/metrics/_classification.py:1344: UndefinedMetricWarning: Precision and F-score are ill-defined and being set to 0.0 in labels with no predicted samples. Use `zero_division` parameter to control this behavior.\n",
            "  _warn_prf(average, modifier, msg_start, len(result))\n"
          ]
        }
      ],
      "source": [
        "# Calculate accuracy, precision, recall, and F1-score\n",
        "report = classification_report(test_int_labels, predicted_labels, target_names=list(label2id.keys()), output_dict=True)\n",
        "print(report)\n",
        "print('\\n')\n",
        "accuracy = report['accuracy']\n",
        "precision = report['macro avg']['precision']\n",
        "recall = report['macro avg']['recall']\n",
        "f1_score = report['macro avg']['f1-score']\n",
        "\n",
        "print(f\"Accuracy: {accuracy:.4f}\")\n",
        "print(f\"Precision: {precision:.4f}\")\n",
        "print(f\"Recall: {recall:.4f}\")\n",
        "print(f\"F1 Score: {f1_score:.4f}\")"
      ]
    },
    {
      "cell_type": "code",
      "execution_count": null,
      "metadata": {
        "colab": {
          "base_uri": "https://localhost:8080/"
        },
        "id": "rtOFqyVLYX0O",
        "outputId": "31786d82-f4e8-4b03-a160-b51c6de14a8a"
      },
      "outputs": [
        {
          "ename": "NameError",
          "evalue": "name 'report' is not defined",
          "output_type": "error",
          "traceback": [
            "\u001b[0;31m---------------------------------------------------------------------------\u001b[0m",
            "\u001b[0;31mNameError\u001b[0m                                 Traceback (most recent call last)",
            "\u001b[0;32m<ipython-input-33-07d3306fc65e>\u001b[0m in \u001b[0;36m<module>\u001b[0;34m\u001b[0m\n\u001b[0;32m----> 1\u001b[0;31m \u001b[0mreport\u001b[0m\u001b[0;34m\u001b[0m\u001b[0;34m\u001b[0m\u001b[0m\n\u001b[0m",
            "\u001b[0;31mNameError\u001b[0m: name 'report' is not defined"
          ]
        }
      ],
      "source": [
        "report"
      ]
    },
    {
      "cell_type": "code",
      "execution_count": null,
      "metadata": {
        "id": "BnX8r0roV8E2"
      },
      "outputs": [],
      "source": [
        "del report['accuracy']"
      ]
    },
    {
      "cell_type": "code",
      "execution_count": null,
      "metadata": {
        "colab": {
          "base_uri": "https://localhost:8080/"
        },
        "id": "gEMXVovKVKv7",
        "outputId": "beaddb15-f4c1-4b81-8aae-72ec60489c4f"
      },
      "outputs": [
        {
          "name": "stdout",
          "output_type": "stream",
          "text": [
            "{'label': 'timezone'}\n",
            "{'label': 'spending history'}\n",
            "{'label': 'make call'}\n",
            "{'label': 'play music'}\n",
            "{'label': 'yes'}\n",
            "{'label': 'smart home'}\n",
            "{'label': 'taxes'}\n",
            "{'label': 'income'}\n",
            "{'label': 'account blocked'}\n",
            "{'label': 'travel alert'}\n",
            "{'label': 'credit score'}\n",
            "{'label': 'distance'}\n",
            "{'label': 'cancel reservation'}\n",
            "{'label': 'vaccines'}\n",
            "{'label': 'next holiday'}\n",
            "{'label': 'min payment'}\n",
            "{'label': 'meeting schedule'}\n",
            "{'label': 'report fraud'}\n",
            "{'label': 'pto request status'}\n",
            "{'label': 'car rental'}\n",
            "{'label': 'tire change'}\n",
            "{'label': 'flip coin'}\n",
            "{'label': 'what are your hobbies'}\n",
            "{'label': 'credit limit change'}\n",
            "{'label': 'order status'}\n",
            "{'label': 'apr'}\n",
            "{'label': 'uber'}\n",
            "{'label': 'fun fact'}\n",
            "{'label': 'directions'}\n",
            "{'label': 'calories'}\n",
            "{'label': 'greeting'}\n",
            "{'label': 'meal suggestion'}\n",
            "{'label': 'transactions'}\n",
            "{'label': 'balance'}\n",
            "{'label': 'are you a bot'}\n",
            "{'label': 'replacement card duration'}\n",
            "{'label': 'time'}\n",
            "{'label': 'change speed'}\n",
            "{'label': 'payday'}\n",
            "{'label': 'sync device'}\n",
            "{'label': 'change user name'}\n",
            "{'label': 'transfer'}\n",
            "{'label': 'routing'}\n",
            "{'label': 'restaurant reviews'}\n",
            "{'label': 'traffic'}\n",
            "{'label': 'spelling'}\n",
            "{'label': 'oil change when'}\n",
            "{'label': 'international fees'}\n",
            "{'label': 'goodbye'}\n",
            "{'label': 'mpg'}\n",
            "{'label': 'change ai name'}\n",
            "{'label': 'credit limit'}\n",
            "{'label': 'pto used'}\n",
            "{'label': 'next song'}\n",
            "{'label': 'reminder update'}\n",
            "{'label': 'shopping list update'}\n",
            "{'label': 'carry on'}\n",
            "{'label': 'book flight'}\n",
            "{'label': 'thank you'}\n",
            "{'label': 'ingredients list'}\n",
            "{'label': 'order checks'}\n",
            "{'label': 'freeze account'}\n",
            "{'label': 'todo list'}\n",
            "{'label': 'who do you work for'}\n",
            "{'label': 'redeem rewards'}\n",
            "{'label': 'how busy'}\n",
            "{'label': 'report lost card'}\n",
            "{'label': 'rewards balance'}\n",
            "{'label': 'find phone'}\n",
            "{'label': 'plug type'}\n",
            "{'label': 'do you have pets'}\n",
            "{'label': 'cancel'}\n",
            "{'label': 'direct deposit'}\n",
            "{'label': 'damaged card'}\n",
            "{'label': 'who made you'}\n",
            "{'label': 'what can i ask you'}\n",
            "{'label': 'order'}\n",
            "{'label': 'calendar update'}\n",
            "{'label': 'timer'}\n",
            "{'label': 'user name'}\n",
            "{'label': 'reset settings'}\n",
            "{'label': 'schedule meeting'}\n",
            "{'label': 'international visa'}\n",
            "{'label': 'pto request'}\n",
            "{'label': 'exchange rate'}\n",
            "{'label': 'roll dice'}\n",
            "{'label': 'confirm reservation'}\n",
            "{'label': 'travel notification'}\n",
            "{'label': 'rollover 401k'}\n",
            "{'label': 'pin change'}\n",
            "{'label': 'alarm'}\n",
            "{'label': 'bill due'}\n",
            "{'label': 'tell joke'}\n",
            "{'label': 'shopping list'}\n",
            "{'label': 'reminder'}\n",
            "{'label': 'travel suggestion'}\n",
            "{'label': 'what song'}\n",
            "{'label': 'gas type'}\n",
            "{'label': 'flight status'}\n",
            "{'label': 'todo list update'}\n",
            "{'label': 'bill balance'}\n",
            "{'label': 'new card'}\n",
            "{'label': 'repeat'}\n",
            "{'label': 'change accent'}\n",
            "{'label': 'expiration date'}\n",
            "{'label': 'jump start'}\n",
            "{'label': 'insurance'}\n",
            "{'label': 'nutrition info'}\n",
            "{'label': 'restaurant reservation'}\n",
            "{'label': 'lost luggage'}\n",
            "{'label': 'tire pressure'}\n",
            "{'label': 'calendar'}\n",
            "{'label': 'how old are you'}\n",
            "{'label': 'restaurant suggestion'}\n",
            "{'label': 'weather'}\n",
            "{'label': 'share location'}\n",
            "{'label': 'measurement conversion'}\n",
            "{'label': 'card declined'}\n",
            "{'label': 'oil change how'}\n",
            "{'label': 'whisper mode'}\n",
            "{'label': 'accept reservations'}\n",
            "{'label': 'pto balance'}\n",
            "{'label': 'where are you from'}\n",
            "{'label': 'interest rate'}\n",
            "{'label': 'current location'}\n",
            "{'label': 'what is your name'}\n",
            "{'label': 'change volume'}\n",
            "{'label': 'meaning of life'}\n",
            "{'label': 'no'}\n",
            "{'label': 'definition'}\n",
            "{'label': 'date'}\n",
            "{'label': 'w2'}\n",
            "{'label': 'change language'}\n",
            "{'label': 'pay bill'}\n",
            "{'label': 'recipe'}\n",
            "{'label': 'application status'}\n",
            "{'label': 'food last'}\n",
            "{'label': 'book hotel'}\n",
            "{'label': 'improve credit score'}\n",
            "{'label': 'text'}\n",
            "{'label': 'translate'}\n",
            "{'label': 'ingredient substitution'}\n",
            "{'label': 'schedule maintenance'}\n",
            "{'label': 'insurance change'}\n",
            "{'label': 'update playlist'}\n",
            "{'label': 'last maintenance'}\n",
            "{'label': 'cook time'}\n",
            "{'label': 'gas'}\n",
            "{'label': 'maybe'}\n",
            "{'label': 'calculator'}\n",
            "{'label': 'macro avg'}\n",
            "{'label': 'weighted avg'}\n",
            "                label  precision    recall  f1-score  support\n",
            "0            timezone   1.000000  1.000000  1.000000        1\n",
            "1    spending history   1.000000  1.000000  1.000000        1\n",
            "2           make call   1.000000  1.000000  1.000000        1\n",
            "3          play music   1.000000  1.000000  1.000000        1\n",
            "4                 yes   1.000000  1.000000  1.000000        2\n",
            "..                ...        ...       ...       ...      ...\n",
            "147               gas   1.000000  1.000000  1.000000        1\n",
            "148             maybe   0.500000  1.000000  0.666667        1\n",
            "149        calculator   1.000000  1.000000  1.000000        1\n",
            "150         macro avg   0.920000  0.946667  0.928889      158\n",
            "151      weighted avg   0.924051  0.949367  0.932489      158\n",
            "\n",
            "[152 rows x 5 columns]\n"
          ]
        }
      ],
      "source": [
        "import pandas as pd\n",
        "\n",
        "# Initialize an empty list to store the data as dictionaries\n",
        "data_list = []\n",
        "\n",
        "# Iterate through the data_dict and convert each entry into a dictionary\n",
        "for label, metrics in report.items():\n",
        "    entry = {'label': label}\n",
        "    print(entry)\n",
        "    entry.update(metrics)\n",
        "\n",
        "    data_list.append(entry)\n",
        "\n",
        "# Create a DataFrame from the list of dictionaries\n",
        "df = pd.DataFrame(data_list)\n",
        "\n",
        "# Print the resulting DataFrame\n",
        "print(df)\n"
      ]
    },
    {
      "cell_type": "code",
      "execution_count": null,
      "metadata": {
        "id": "Djh992A2Z4lj"
      },
      "outputs": [],
      "source": [
        "df.to_csv('label_list.csv')"
      ]
    },
    {
      "cell_type": "code",
      "execution_count": null,
      "metadata": {
        "colab": {
          "base_uri": "https://localhost:8080/"
        },
        "id": "cZlInRIkTQbI",
        "outputId": "083b095f-4c91-4d7d-c3bc-278c69485a6f"
      },
      "outputs": [
        {
          "data": {
            "text/plain": [
              "152"
            ]
          },
          "execution_count": 46,
          "metadata": {},
          "output_type": "execute_result"
        }
      ],
      "source": [
        "len(report.keys())"
      ]
    }
  ],
  "metadata": {
    "accelerator": "GPU",
    "colab": {
      "gpuType": "T4",
      "provenance": []
    },
    "kernelspec": {
      "display_name": "Python 3",
      "name": "python3"
    },
    "language_info": {
      "codemirror_mode": {
        "name": "ipython",
        "version": 3
      },
      "file_extension": ".py",
      "mimetype": "text/x-python",
      "name": "python",
      "nbconvert_exporter": "python",
      "pygments_lexer": "ipython3",
      "version": "3.8.10"
    }
  },
  "nbformat": 4,
  "nbformat_minor": 0
}